{
 "cells": [
  {
   "cell_type": "code",
   "execution_count": 2,
   "metadata": {},
   "outputs": [
    {
     "name": "stdout",
     "output_type": "stream",
     "text": [
      "============success===========\n",
      "Loading pages (1/6)\n",
      "Warning: Failed to load file:///E:/git/jupyterfiles/custom.css (ignore)\n",
      "Counting pages (2/6)                                               \n",
      "Resolving links (4/6)                                                       \n",
      "Loading headers and footers (5/6)                                           \n",
      "Printing pages (6/6)\n",
      "Done                                                                      \n"
     ]
    },
    {
     "data": {
      "text/plain": [
       "1"
      ]
     },
     "execution_count": 2,
     "metadata": {},
     "output_type": "execute_result"
    }
   ],
   "source": [
    "import sys\n",
    "import subprocess\n",
    "import pdfkit\n",
    "\n",
    "#inputfile = sys.argv[1].replace(\" \",\"\\ \")\n",
    "inputfile = r\"e:/git/jupyterfiles/homeWork.ipynb\"\n",
    "temp_html = inputfile[0:inputfile.rfind('.')]+'.html'\n",
    "command = 'ipython nbconvert --to html ' + inputfile\n",
    "subprocess.call(command,shell=True)\n",
    "print('============success===========')\n",
    "output_file =inputfile[0:inputfile.rfind('.')]+'.pdf'\n",
    "pdfkit.from_file(temp_html,output_file)\n",
    "subprocess.call('rm '+temp_html,shell=True)"
   ]
  }
 ],
 "metadata": {
  "kernelspec": {
   "display_name": "Python 3",
   "language": "python",
   "name": "python3"
  },
  "language_info": {
   "codemirror_mode": {
    "name": "ipython",
    "version": 3
   },
   "file_extension": ".py",
   "mimetype": "text/x-python",
   "name": "python",
   "nbconvert_exporter": "python",
   "pygments_lexer": "ipython3",
   "version": "3.6.6"
  }
 },
 "nbformat": 4,
 "nbformat_minor": 2
}
