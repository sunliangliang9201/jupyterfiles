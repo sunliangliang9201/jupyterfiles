{
 "cells": [
  {
   "cell_type": "code",
   "execution_count": 6,
   "metadata": {},
   "outputs": [
    {
     "name": "stdout",
     "output_type": "stream",
     "text": [
      "3.0\n",
      "3.0\n",
      "6.0\n",
      "6.0\n"
     ]
    }
   ],
   "source": [
    "import tensorflow as tf\n",
    "import time\n",
    "var = tf.Variable(3.0,name='var1')\n",
    "#创建一个本地tesndorflow服务器\n",
    "server = tf.train.Server.create_local_server()\n",
    "#在集群上创建一个会话\n",
    "sess1 = tf.Session(server.target)\n",
    "sess2 = tf.Session(server.target)\n",
    "sess1.run(tf.global_variables_initializer())\n",
    "print(sess1.run(var))\n",
    "print(sess2.run(var))\n",
    "sess2.run(var.assign_add(3.0))\n",
    "print(sess1.run(var))\n",
    "print(sess2.run(var))\n",
    "time.sleep(20)"
   ]
  }
 ],
 "metadata": {
  "kernelspec": {
   "display_name": "Python 3",
   "language": "python",
   "name": "python3"
  },
  "language_info": {
   "codemirror_mode": {
    "name": "ipython",
    "version": 3
   },
   "file_extension": ".py",
   "mimetype": "text/x-python",
   "name": "python",
   "nbconvert_exporter": "python",
   "pygments_lexer": "ipython3",
   "version": "3.6.6"
  }
 },
 "nbformat": 4,
 "nbformat_minor": 2
}
