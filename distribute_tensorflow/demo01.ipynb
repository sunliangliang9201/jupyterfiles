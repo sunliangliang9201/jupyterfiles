{
 "cells": [
  {
   "cell_type": "code",
   "execution_count": 2,
   "metadata": {},
   "outputs": [
    {
     "name": "stdout",
     "output_type": "stream",
     "text": [
      "Initial value of var in sess 1: 0.0\n",
      "Initial value of var in sess 2: 0.0\n",
      "Value of var in sess 1: 3.0\n",
      "Value of var in sess 2: 0.0\n",
      "/job:localhost/replica:0/task:0/device:CPU:0\n",
      "   _SOURCE\n",
      "   Variable_1\n",
      "   _retval_Variable_1_0_0\n",
      "/job:localhost/replica:0/task:0/device:CPU:0\n",
      "   _SOURCE\n",
      "   Variable_1\n",
      "   _retval_Variable_1_0_0\n"
     ]
    }
   ],
   "source": [
    "import tensorflow as tf\n",
    "def run_with_location_trace(sess,op):\n",
    "    run_options = tf.RunOptions(trace_level=tf.RunOptions.FULL_TRACE)\n",
    "    run_metadata = tf.RunMetadata()\n",
    "    sess.run(op,options=run_options,run_metadata=run_metadata)\n",
    "    for device in run_metadata.step_stats.dev_stats:\n",
    "        print(device.device)\n",
    "        for node in device.node_stats:\n",
    "            print('  ',node.node_name)\n",
    "var = tf.Variable(initial_value=0.0)\n",
    "#定义多个绘画\n",
    "sess1 = tf.Session()\n",
    "sess2 = tf.Session()\n",
    "#初始化变量\n",
    "sess1.run(tf.global_variables_initializer())\n",
    "sess2.run(tf.global_variables_initializer())\n",
    "\n",
    "print('Initial value of var in sess 1:',sess1.run(var))\n",
    "print('Initial value of var in sess 2:',sess2.run(var))\n",
    "\n",
    "#下面只让一个会话进行计算那个var\n",
    "sess1.run(var.assign_add(3.0))\n",
    "\n",
    "#看看这里的同一个var在两个会话中的值\n",
    "print('Value of var in sess 1:',sess1.run(var))\n",
    "print('Value of var in sess 2:',sess2.run(var))\n",
    "#看一看所有的op在哪一个设备上运行\n",
    "run_with_location_trace(sess1,var)\n",
    "run_with_location_trace(sess2,var)\n",
    "#关闭session\n",
    "sess1.close()\n",
    "sess2.close()"
   ]
  }
 ],
 "metadata": {
  "kernelspec": {
   "display_name": "Python 3",
   "language": "python",
   "name": "python3"
  },
  "language_info": {
   "codemirror_mode": {
    "name": "ipython",
    "version": 3
   },
   "file_extension": ".py",
   "mimetype": "text/x-python",
   "name": "python",
   "nbconvert_exporter": "python",
   "pygments_lexer": "ipython3",
   "version": "3.6.6"
  }
 },
 "nbformat": 4,
 "nbformat_minor": 2
}
