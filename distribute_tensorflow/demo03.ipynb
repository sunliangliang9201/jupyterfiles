{
 "cells": [
  {
   "cell_type": "code",
   "execution_count": 10,
   "metadata": {},
   "outputs": [
    {
     "name": "stdout",
     "output_type": "stream",
     "text": [
      "2613694600920\n",
      "2613694600920\n",
      "Initial value of var in sess 1: 0.0\n",
      "Initial value of var in sess 2: 0.0\n",
      "value of var in sess1: 7.0\n",
      "value of var in sess2: 7.0\n",
      "/job:local/replica:0/task:0/device:CPU:0\n",
      "   _SOURCE\n",
      "   var\n",
      "/job:local/replica:0/task:1/device:CPU:0\n",
      "   RecvTensor\n",
      "/job:local/replica:0/task:0/device:CPU:0\n",
      "   _SOURCE\n",
      "   var\n",
      "/job:local/replica:0/task:1/device:CPU:0\n",
      "   _SOURCE\n"
     ]
    }
   ],
   "source": [
    "import tensorflow as tf\n",
    "#查看变量在哪个设备上\n",
    "def run_with_location_trace(sess,op):\n",
    "    run_options = tf.RunOptions(trace_level=tf.RunOptions.FULL_TRACE)\n",
    "    run_metadata = tf.RunMetadata()\n",
    "    sess.run(op,options=run_options,run_metadata=run_metadata)\n",
    "    for device in run_metadata.step_stats.dev_stats:\n",
    "        print(device.device)\n",
    "        for node in device.node_stats:\n",
    "            print('  ',node.node_name)\n",
    "#定义集群服务器\n",
    "tasks = ['localhost:10003','localhost:10004']\n",
    "jobs = {'local':tasks}\n",
    "#定义集群变量\n",
    "cluster = tf.train.ClusterSpec(jobs)\n",
    "#定义分布服务器\n",
    "server1 = tf.train.Server(cluster,job_name='local',task_index=0)\n",
    "server2 = tf.train.Server(cluster,job_name='local',task_index=1)\n",
    "\n",
    "#重置tf的图\n",
    "tf.reset_default_graph()#把之前的删除\n",
    "#定义变量\n",
    "var = tf.Variable(initial_value=0.0,name='var')\n",
    "#定义两个session会话\n",
    "sess1 = tf.Session(server1.target)\n",
    "sess2 = tf.Session(server2.target)\n",
    "print(id(sess1.graph))\n",
    "print(id(sess2.graph))\n",
    "#只需要初始化一个会话中的即可\n",
    "sess1.run(tf.global_variables_initializer())\n",
    "print('Initial value of var in sess 1:',sess1.run(var))\n",
    "print('Initial value of var in sess 2:',sess2.run(var))\n",
    "\n",
    "sess2.run(var.assign_add(7.0))\n",
    "print('value of var in sess1:',sess1.run(var))\n",
    "print('value of var in sess2:',sess2.run(var))\n",
    "run_with_location_trace(sess1,var)\n",
    "#run_with_location_trace(sess2,var)\n",
    "sess1.close()\n",
    "sess2.close()"
   ]
  }
 ],
 "metadata": {
  "kernelspec": {
   "display_name": "Python 3",
   "language": "python",
   "name": "python3"
  },
  "language_info": {
   "codemirror_mode": {
    "name": "ipython",
    "version": 3
   },
   "file_extension": ".py",
   "mimetype": "text/x-python",
   "name": "python",
   "nbconvert_exporter": "python",
   "pygments_lexer": "ipython3",
   "version": "3.6.6"
  }
 },
 "nbformat": 4,
 "nbformat_minor": 2
}
