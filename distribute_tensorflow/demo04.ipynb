{
 "cells": [
  {
   "cell_type": "code",
   "execution_count": 12,
   "metadata": {},
   "outputs": [
    {
     "name": "stdout",
     "output_type": "stream",
     "text": [
      "3.0\n",
      "/job:local/replica:0/task:0/device:CPU:0\n",
      "   _SOURCE\n",
      "   var1\n",
      "/job:local/replica:0/task:1/device:CPU:0\n",
      "   _SOURCE\n",
      "   var2\n",
      "3.0\n",
      "1.0\n",
      "/job:local/replica:0/task:1/device:CPU:0\n",
      "   RecvTensor\n",
      "/job:local/replica:0/task:0/device:CPU:0\n",
      "   _SOURCE\n",
      "   var1\n",
      "/job:local/replica:0/task:1/device:CPU:0\n",
      "   _SOURCE\n",
      "/job:local/replica:0/task:1/device:CPU:0\n",
      "   _SOURCE\n",
      "   var2\n"
     ]
    }
   ],
   "source": [
    "import tensorflow as tf\n",
    "def run_with_location_trace(sess,op):\n",
    "    run_options = tf.RunOptions(trace_level=tf.RunOptions.FULL_TRACE)\n",
    "    run_metadata = tf.RunMetadata()\n",
    "    sess.run(op,options=run_options,run_metadata=run_metadata)\n",
    "    for device in run_metadata.step_stats.dev_stats:\n",
    "        print(device.device)\n",
    "        for node in device.node_stats:\n",
    "            print('  ',node.node_name)\n",
    "tasks = ['localhost:100014','localhost:100015']\n",
    "jobs = {'local':tasks}\n",
    "cluster = tf.train.ClusterSpec(jobs)\n",
    "server1 = tf.train.Server(cluster,job_name='local',task_index=0)\n",
    "server2 = tf.train.Server(cluster,job_name='local',task_index=1)\n",
    "tf.reset_default_graph()\n",
    "sess1 = tf.Session(server1.target)\n",
    "sess2 = tf.Session(server2.target)\n",
    "\n",
    "with tf.device('/job:local/task:0'):\n",
    "    var1 = tf.Variable(initial_value=0.0,name='var1')\n",
    "with tf.device('/job:local/task:1'):\n",
    "    var2 = tf.Variable(initial_value=1.0,name='var2')\n",
    "sess1.run(tf.global_variables_initializer())\n",
    "print(sess2.run(var1.assign_add(3.0)))\n",
    "run_with_location_trace(sess1,var1)\n",
    "run_with_location_trace(sess2,var2)\n",
    "print(sess2.run(var1))\n",
    "print(sess1.run(var2))\n",
    "run_with_location_trace(sess2,var1)\n",
    "run_with_location_trace(sess2,var2)"
   ]
  }
 ],
 "metadata": {
  "kernelspec": {
   "display_name": "Python 3",
   "language": "python",
   "name": "python3"
  },
  "language_info": {
   "codemirror_mode": {
    "name": "ipython",
    "version": 3
   },
   "file_extension": ".py",
   "mimetype": "text/x-python",
   "name": "python",
   "nbconvert_exporter": "python",
   "pygments_lexer": "ipython3",
   "version": "3.6.6"
  }
 },
 "nbformat": 4,
 "nbformat_minor": 2
}
