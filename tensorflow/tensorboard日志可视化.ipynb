{
 "cells": [
  {
   "cell_type": "code",
   "execution_count": null,
   "metadata": {},
   "outputs": [],
   "source": [
    "import tensorflow as tf\n",
    "#在系统默认九三图上创建张量和操作\n",
    "with tf.name_scope('INOUT_OP'):\n",
    "    a = tf.Variable(30,name='INPUTA')\n",
    "    b = tf.Variable(36,name='INPUTB')\n",
    "with tf.name_scope('ADD_OP'):\n",
    "    tf_add = tf.add(a,b,name='TF_ADD')\n",
    "with tf.name_scope('SUB_OP'):\n",
    "    tf_sub = tf.subtract(a,b,name='TF_SUB')\n",
    "with tf.name_scope('DIV_OP'):\n",
    "    tf_div = tf.div(a,b,name='TF_DIV')\n",
    "with tf.name_scope('MUL_OP'):\n",
    "    tf_mul = tf.multiply(a,b,name='TF_MUL')\n",
    "\n",
    "with tf.Session(graph=tf.get_default_graph()) as sess:\n",
    "    sess.run(tf.global_variables_initializer())\n",
    "    sess.run(tf_add)\n",
    "    sess.run(tf_sub)\n",
    "    sess.run(tf_div)\n",
    "    sess.run(tf_mul)\n",
    "    summary_writer = tf.summary.FileWriter(r'E:\\jupyter_pythonfiles\\tensorboard',sess.graph)"
   ]
  }
 ],
 "metadata": {
  "kernelspec": {
   "display_name": "Python 3",
   "language": "python",
   "name": "python3"
  },
  "language_info": {
   "codemirror_mode": {
    "name": "ipython",
    "version": 3
   },
   "file_extension": ".py",
   "mimetype": "text/x-python",
   "name": "python",
   "nbconvert_exporter": "python",
   "pygments_lexer": "ipython3",
   "version": "3.6.6"
  }
 },
 "nbformat": 4,
 "nbformat_minor": 2
}
