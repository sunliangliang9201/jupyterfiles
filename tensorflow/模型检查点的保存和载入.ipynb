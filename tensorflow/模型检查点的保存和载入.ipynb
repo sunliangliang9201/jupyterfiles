{
 "cells": [
  {
   "cell_type": "code",
   "execution_count": null,
   "metadata": {},
   "outputs": [
    {
     "data": {
      "image/png": "[encoded data removed]",
      "text/plain": [
       "<Figure size 432x288 with 1 Axes>"
      ]
     },
     "metadata": {},
     "output_type": "display_data"
    },
    {
     "name": "stdout",
     "output_type": "stream",
     "text": [
      "Epoch: 1 loss= 1428.6094 W= [42.153687] b= [17.145952]\n",
      "Epoch: 11 loss= 0.075363666 W= [99.84369] b= [0.01651183]\n",
      "Epoch: 21 loss= 0.073379725 W= [99.91303] b= [-0.01009399]\n",
      "Epoch: 31 loss= 0.07338014 W= [99.91312] b= [-0.01012309]\n",
      "Epoch: 41 loss= 0.07338014 W= [99.91312] b= [-0.01012309]\n",
      "Epoch: 51 loss= 0.07338014 W= [99.91312] b= [-0.01012309]\n",
      "Epoch: 61 loss= 0.07338014 W= [99.91312] b= [-0.01012309]\n",
      "Epoch: 71 loss= 0.07338014 W= [99.91312] b= [-0.01012309]\n",
      "Epoch: 81 loss= 0.07338014 W= [99.91312] b= [-0.01012309]\n",
      "Epoch: 91 loss= 0.07338014 W= [99.91312] b= [-0.01012309]\n",
      "Model training Fnished\n"
     ]
    }
   ],
   "source": [
    "import tensorflow as tf\n",
    "import numpy as np\n",
    "import matplotlib.pyplot as plt\n",
    "import os\n",
    "from tensorflow.python.tools.inspect_checkpoint import print_tensors_in_checkpoint_file\n",
    "def moving_average(a,w=10):\n",
    "    if len(a) < w:\n",
    "        return a[:]\n",
    "    return [val if idx < w else sum(a[(idx-w):idx])/w for idx,val in enumerate(a)]\n",
    "plotdata = {'batchsize':[],'loss':[]}\n",
    "train_X = np.linspace(-1,1,100)#x轴数据点\n",
    "test_X = np.linspace(-0.5,0.8,30)#生成测试数据\n",
    "train_Y = 100 * train_X + np.random.randn(train_X.shape[0])*0.3#这个数据必须是由一定误差的，不然就过拟合了，没有意义了\n",
    "plt.plot(train_X,train_Y,'ro',label='Original data')\n",
    "plt.legend()\n",
    "plt.show()\n",
    "\n",
    "#搭建模型\n",
    "inputdict = {\n",
    "    'x':tf.placeholder('float'),\n",
    "    'y':tf.placeholder('float')\n",
    "}\n",
    "#模型参数\n",
    "W = tf.Variable(tf.random_normal([1]),name='Weight')#随机生成-1 1之间的正太分布的值\n",
    "b = tf.Variable(tf.zeros([1]),name='Bias')\n",
    "z = tf.multiply(inputdict['x'],W) + b\n",
    "cost = tf.reduce_mean(tf.square(inputdict['y']-z))\n",
    "learning_rate = 0.01\n",
    "optimizer = tf.train.GradientDescentOptimizer(learning_rate).minimize(cost)\n",
    "init = tf.global_variables_initializer()\n",
    "training_epochs = train_X.size\n",
    "display_step = 10\n",
    "saver = tf.train.Saver(max_to_keep=1)\n",
    "saverdir = r'E:\\jupyter_pythonfiles\\tensorflow'\n",
    "model_file = saverdir + 'linermodel.checkpoint'\n",
    "isTrain = False#是不是训练，是训练的刷就走原来的代码，并在最后保存，如果不是那么就把保存的模型打印出来一些信息\n",
    "#启动session会话\n",
    "with tf.Session() as sess:\n",
    "    sess.run(init)\n",
    "    ckpt = tf.train.get_checkpoint_state(saverdir)\n",
    "    #想模型输入数据\n",
    "    if not (ckpt == None):\n",
    "        if ckpt and ckpt.model_checkpoint_path:\n",
    "            saver.restore(sess,ckpt.model_checkpoint_path)\n",
    "        print('x=0.2 z=',sess.run(x,feed_dict={inputdictct['x']:0.2}))\n",
    "        print('latest cost=',sess.run(cost,feed_dict={inputdict['x']:train_X,inputdict['y']:train_Y}),'W=',sess.run(W),'b=',sess.run(b))\n",
    "    else:\n",
    "        for epoch in range(training_epochs):\n",
    "            for (x,y) in zip(train_X,train_Y):\n",
    "                sess.run(optimizer,feed_dict={inputdict['x']:x,inputdict['y']:y})\n",
    "            #显示训练的详细信息\n",
    "            if epoch % display_step == 0:\n",
    "                loss = sess.run(cost,feed_dict={inputdict['x']:train_X,inputdict['y']:train_Y})\n",
    "                print('Epoch:',epoch + 1,'loss=',loss,'W=',sess.run(W),'b=',sess.run(b))\n",
    "                if not (loss == 'NA'):\n",
    "                    plotdata['batchsize'].append(epoch)\n",
    "                    plotdata['loss'].append(loss)\n",
    "        print('Model training Fnished')\n",
    "        saver.save(sess,model_file,global_step=epoch)\n",
    "#x训练图可视化\n",
    "    plt.plot(train_X,train_Y,'ro',label='Original data')\n",
    "    plt.plot(train_X,sess.run(W)*train_X + sess.run(b),label='Fittedline')\n",
    "    #测试数据显示\n",
    "    plt.plot(test_X,sess.run(W)*test_X + sess.run(b),'co',label='Testline')\n",
    "    plt.legend()\n",
    "    plt.show()\n",
    "    \n",
    "    plotdata['avgloss'] = moving_average(plotdata['loss'])\n",
    "    print('plotdata[avgloss]:',plotdata['avgloss'])\n",
    "    plt.figure(1)\n",
    "    plt.subplot(211)\n",
    "    plt.plot(plotdata['batchsize'],plotdata['avgloss'],'b--')\n",
    "    plt.xlabel('Minibatch number')\n",
    "    plt.ylabel('Loss')\n",
    "    plt.title('Minibatch run vs Training loss')\n",
    "    plt.show()"
   ]
  },
  {
   "cell_type": "code",
   "execution_count": null,
   "metadata": {},
   "outputs": [],
   "source": []
  }
 ],
 "metadata": {
  "kernelspec": {
   "display_name": "Python 3",
   "language": "python",
   "name": "python3"
  },
  "language_info": {
   "codemirror_mode": {
    "name": "ipython",
    "version": 3
   },
   "file_extension": ".py",
   "mimetype": "text/x-python",
   "name": "python",
   "nbconvert_exporter": "python",
   "pygments_lexer": "ipython3",
   "version": "3.6.6"
  }
 },
 "nbformat": 4,
 "nbformat_minor": 2
}
