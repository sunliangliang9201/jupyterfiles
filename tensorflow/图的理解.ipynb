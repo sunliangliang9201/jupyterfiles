{
 "cells": [
  {
   "cell_type": "code",
   "execution_count": 52,
   "metadata": {},
   "outputs": [
    {
     "name": "stdout",
     "output_type": "stream",
     "text": [
      "1892436237728\n",
      "add op [3. 3.]\n",
      "1892436237728\n"
     ]
    }
   ],
   "source": [
    "import tensorflow as tf\n",
    "\n",
    "#在系统默认计算图上创建张量和操作\n",
    "a = tf.constant([1.0,2.0])\n",
    "b = tf.constant([2.0,1.0])\n",
    "tf_add = tf.add(a,b)\n",
    "print(id(tf.get_default_graph()))\n",
    "with tf.Session() as sess:\n",
    "    print('add op',sess.run(tf_add))\n",
    "    print(id(sess.graph))"
   ]
  },
  {
   "cell_type": "code",
   "execution_count": 44,
   "metadata": {},
   "outputs": [
    {
     "name": "stdout",
     "output_type": "stream",
     "text": [
      "graph_a result: [15. 36.]\n"
     ]
    }
   ],
   "source": [
    "graph_a = tf.Graph()\n",
    "#在计算图g1中定义张量和操作\n",
    "with graph_a.as_default():\n",
    "    a = tf.constant([3.0,4.0])\n",
    "    b = tf.constant([5.0,9.0])\n",
    "    mul = tf.multiply(a,b)\n",
    "with tf.Session(graph=graph_a) as sess:\n",
    "    print('graph_a result:',sess.run(mul))"
   ]
  },
  {
   "cell_type": "code",
   "execution_count": null,
   "metadata": {},
   "outputs": [],
   "source": []
  }
 ],
 "metadata": {
  "kernelspec": {
   "display_name": "Python 3",
   "language": "python",
   "name": "python3"
  },
  "language_info": {
   "codemirror_mode": {
    "name": "ipython",
    "version": 3
   },
   "file_extension": ".py",
   "mimetype": "text/x-python",
   "name": "python",
   "nbconvert_exporter": "python",
   "pygments_lexer": "ipython3",
   "version": "3.6.6"
  }
 },
 "nbformat": 4,
 "nbformat_minor": 2
}
