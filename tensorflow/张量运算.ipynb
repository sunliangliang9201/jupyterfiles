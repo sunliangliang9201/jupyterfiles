{
 "cells": [
  {
   "cell_type": "code",
   "execution_count": 21,
   "metadata": {},
   "outputs": [
    {
     "name": "stdout",
     "output_type": "stream",
     "text": [
      "[ 8 18]\n",
      "[16 81]\n",
      "[1. 1.]\n",
      "[0 0]\n"
     ]
    }
   ],
   "source": [
    "import tensorflow as tf\n",
    "a = tf.constant([4,9])#定义一个常量，但是不是很好理解，而且结果跟线性代数中不一样\n",
    "b = tf.constant([4,9])\n",
    "tf_add = a + b\n",
    "tf_mul = a * b\n",
    "tf_div = a / b\n",
    "tf_sub = a - b\n",
    "for i in tf_add,tf_mul,tf_div,tf_sub:\n",
    "    session = tf.Session()\n",
    "    print(session.run(i))\n"
   ]
  },
  {
   "cell_type": "code",
   "execution_count": 22,
   "metadata": {},
   "outputs": [
    {
     "name": "stdout",
     "output_type": "stream",
     "text": [
      "[ 9 17]\n",
      "[20 72]\n",
      "[1 0]\n",
      "[ 1 -1]\n"
     ]
    }
   ],
   "source": [
    "import tensorflow as tf\n",
    "a = tf.constant([5,8])\n",
    "b = tf.constant([4,9])\n",
    "tf_add = tf.add(a,b)\n",
    "tf_mul = tf.multiply(a,b)\n",
    "tf_div = tf.div(a,b)\n",
    "tf_sub = tf.subtract(a,b)\n",
    "with tf.Session() as session:\n",
    "    print(session.run(tf_add))\n",
    "    print(session.run(tf_mul))\n",
    "    print(session.run(tf_div))\n",
    "    print(session.run(tf_sub))"
   ]
  }
 ],
 "metadata": {
  "kernelspec": {
   "display_name": "Python 3",
   "language": "python",
   "name": "python3"
  },
  "language_info": {
   "codemirror_mode": {
    "name": "ipython",
    "version": 3
   },
   "file_extension": ".py",
   "mimetype": "text/x-python",
   "name": "python",
   "nbconvert_exporter": "python",
   "pygments_lexer": "ipython3",
   "version": "3.6.6"
  }
 },
 "nbformat": 4,
 "nbformat_minor": 2
}
