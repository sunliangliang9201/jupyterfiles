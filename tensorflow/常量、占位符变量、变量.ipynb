{
 "cells": [
  {
   "cell_type": "code",
   "execution_count": 4,
   "metadata": {
    "scrolled": true
   },
   "outputs": [
    {
     "name": "stdout",
     "output_type": "stream",
     "text": [
      "类型为： <class 'tensorflow.python.framework.ops.Tensor'>\n",
      "Addition with constants: 5\n",
      "结果类型为 <class 'numpy.int32'>\n",
      "Multiplication with constants: 6\n"
     ]
    }
   ],
   "source": [
    "#兼容python2，3\n",
    "from __future__ import print_function\n",
    "#导入tf框架\n",
    "import tensorflow as tf\n",
    "\n",
    "#定义常量\n",
    "a = tf.constant(2)\n",
    "b = tf.constant(3)\n",
    "c = tf.constant(4)\n",
    "print('类型为：',type(a))\n",
    "#启动默认的图\n",
    "with tf.Session() as sess:\n",
    "    print('Addition with constants: %i' % sess.run(a+b))\n",
    "    print('结果类型为',type(sess.run(a+b)))\n",
    "    print('Multiplication with constants: %i' % sess.run(a*b))\n",
    "\n",
    "\n"
   ]
  },
  {
   "cell_type": "code",
   "execution_count": 9,
   "metadata": {},
   "outputs": [
    {
     "name": "stdout",
     "output_type": "stream",
     "text": [
      "Tensor(\"Placeholder_8:0\", dtype=int16)\n",
      "<class 'tensorflow.python.framework.ops.Tensor'>\n",
      "Addition with variables: 5\n",
      "<class 'numpy.int16'>\n",
      "Multilication with variables: 6\n"
     ]
    }
   ],
   "source": [
    "#定义一个占位符变量\n",
    "a = tf.placeholder(tf.int16)\n",
    "b = tf.placeholder(tf.int16)\n",
    "print(a)\n",
    "print(type(a))\n",
    "#定义操作\n",
    "add = tf.add(a,b)\n",
    "mul = tf.multiply(a,b)\n",
    "#启动默认图\n",
    "with tf.Session() as sess:\n",
    "    print('Addition with variables: %i' % sess.run(add,feed_dict={a:2,b:3}))\n",
    "    print(type(sess.run(add,feed_dict={a:2,b:3})))\n",
    "    print('Multilication with variables: %i' % sess.run(mul,feed_dict={a:2,b:3}))\n",
    "    "
   ]
  },
  {
   "cell_type": "code",
   "execution_count": 14,
   "metadata": {},
   "outputs": [
    {
     "name": "stdout",
     "output_type": "stream",
     "text": [
      "<class 'tensorflow.python.ops.variables.Variable'>\n",
      "<class 'tensorflow.python.framework.ops.Tensor'>\n",
      "Addition with variables: 8\n",
      "<class 'numpy.int32'>\n",
      "Multilication with variables: 15\n"
     ]
    }
   ],
   "source": [
    "#定义一个Tensor变量\n",
    "a = tf.Variable(3)\n",
    "b = tf.Variable(5)\n",
    "print(type(b))\n",
    "#对变量进行计算\n",
    "add = tf.add(a,b)\n",
    "mul = tf.multiply(a,b)\n",
    "print(type(add))\n",
    "#启动默认的图\n",
    "with tf.Session() as sess:\n",
    "    sess.run(tf.global_variables_initializer())\n",
    "    print('Addition with variables: %i' % sess.run(add))\n",
    "    print(type(sess.run(add)))\n",
    "    print('Multilication with variables: %i' % sess.run(mul))"
   ]
  }
 ],
 "metadata": {
  "kernelspec": {
   "display_name": "Python 3",
   "language": "python",
   "name": "python3"
  },
  "language_info": {
   "codemirror_mode": {
    "name": "ipython",
    "version": 3
   },
   "file_extension": ".py",
   "mimetype": "text/x-python",
   "name": "python",
   "nbconvert_exporter": "python",
   "pygments_lexer": "ipython3",
   "version": "3.6.6"
  }
 },
 "nbformat": 4,
 "nbformat_minor": 2
}
