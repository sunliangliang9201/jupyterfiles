{
 "cells": [
  {
   "cell_type": "code",
   "execution_count": 19,
   "metadata": {},
   "outputs": [
    {
     "name": "stdout",
     "output_type": "stream",
     "text": [
      "IGRAPH UN-- 14 17 --\n",
      "+ attr: name (v)\n",
      "+ edges (vertex names):\n",
      "1--2, 1--3, 2--3, 3--7, 4--5, 4--6, 5--6, 7--6, 7--8, 8--9, 9--10, 9--11,\n",
      "10--11, 8--12, 12--13, 12--14, 13--14\n",
      "1 2\n",
      "2 2\n",
      "3 3\n",
      "7 3\n",
      "4 2\n",
      "5 2\n",
      "6 3\n",
      "8 3\n",
      "9 3\n",
      "10 2\n",
      "11 2\n",
      "12 3\n",
      "13 2\n",
      "14 2\n"
     ]
    }
   ],
   "source": [
    "import csv\n",
    "edges = []\n",
    "with open('net.data','r') as f:\n",
    "    for row in csv.reader(f.read().splitlines()):\n",
    "        u, v = [i for i in row]\n",
    "        edges.append((u, v))\n",
    "from igraph import Graph as IGraph\n",
    "g = IGraph.TupleList(edges, directed=False, vertex_name_attr='name', edge_attrs=None, weights=False)\n",
    "print(g)\n",
    "for p in g.vs():\n",
    "    print(p['name'],p.degree())\n",
    "names = g.vs['name']"
   ]
  },
  {
   "cell_type": "code",
   "execution_count": 54,
   "metadata": {},
   "outputs": [
    {
     "name": "stdout",
     "output_type": "stream",
     "text": [
      "[[3, 2, 0], [3, 2, 1], [3, 2], [3], [3, 6, 4], [3, 6, 5], [3, 6], [3, 7], [3, 7, 8], [3, 7, 8, 9], [3, 7, 8, 10], [3, 7, 11], [3, 7, 11, 12], [3, 7, 11, 13]]\n",
      "['7', '3', '1']\n",
      "['7', '3', '2']\n",
      "['7', '3']\n",
      "['7']\n",
      "['7', '6', '4']\n",
      "['7', '6', '5']\n",
      "['7', '6']\n",
      "['7', '8']\n",
      "['7', '8', '9']\n",
      "['7', '8', '9', '10']\n",
      "['7', '8', '9', '11']\n",
      "['7', '8', '12']\n",
      "['7', '8', '12', '13']\n",
      "['7', '8', '12', '14']\n",
      "closeness centrality = 0.48148148148148145\n"
     ]
    }
   ],
   "source": [
    "#紧密中心性的算法\n",
    "paths = g.get_all_shortest_paths('7')#返回的是索引号\n",
    "print(paths)\n",
    "cc = 0\n",
    "for p in paths:\n",
    "    print([names[x] for x in p])#找出真实的路径\n",
    "    cc += len(p)-1\n",
    "print('closeness centrality =',(len(paths)-1)/float(cc))"
   ]
  },
  {
   "cell_type": "code",
   "execution_count": 48,
   "metadata": {},
   "outputs": [
    {
     "data": {
      "text/plain": [
       "[{'name': '7', 'cc': 0.48148148148148145},\n",
       " {'name': '8', 'cc': 0.48148148148148145},\n",
       " {'name': '3', 'cc': 0.37142857142857144},\n",
       " {'name': '6', 'cc': 0.37142857142857144},\n",
       " {'name': '9', 'cc': 0.37142857142857144},\n",
       " {'name': '12', 'cc': 0.37142857142857144},\n",
       " {'name': '1', 'cc': 0.2826086956521739},\n",
       " {'name': '2', 'cc': 0.2826086956521739},\n",
       " {'name': '4', 'cc': 0.2826086956521739},\n",
       " {'name': '5', 'cc': 0.2826086956521739},\n",
       " {'name': '10', 'cc': 0.2826086956521739},\n",
       " {'name': '11', 'cc': 0.2826086956521739},\n",
       " {'name': '13', 'cc': 0.2826086956521739},\n",
       " {'name': '14', 'cc': 0.2826086956521739}]"
      ]
     },
     "execution_count": 48,
     "metadata": {},
     "output_type": "execute_result"
    }
   ],
   "source": [
    "#紧密中心性函数调用\n",
    "ccvs = []\n",
    "for p in zip(g.vs, g.closeness()):\n",
    "    ccvs.append({'name':p[0]['name'],'cc':p[1]})\n",
    "sorted(ccvs, key=lambda k:k['cc'],reverse=True)"
   ]
  },
  {
   "cell_type": "code",
   "execution_count": 69,
   "metadata": {},
   "outputs": [
    {
     "name": "stdout",
     "output_type": "stream",
     "text": [
      "102\n",
      "betweenness = 51\n"
     ]
    }
   ],
   "source": [
    "#点介数中心性算法\n",
    "sp = []\n",
    "target = 7\n",
    "for v in g.vs:\n",
    "    #print(v, v['name'])\n",
    "    paths = g.get_all_shortest_paths(v['name'])\n",
    "    for p in paths:\n",
    "        if target in p and target != p[0] and target != p[-1]:\n",
    "            sp.append(p)\n",
    "print(len(sp))\n",
    "#去重\n",
    "spbt = 0\n",
    "tu = []\n",
    "for x in sp:\n",
    "    if set((x[0],x[-1])) not in tu:\n",
    "        tu.append(set((x[0],x[-1])))\n",
    "        spbt += 1\n",
    "print(\"betweenness =\", spbt)"
   ]
  },
  {
   "cell_type": "code",
   "execution_count": 72,
   "metadata": {},
   "outputs": [
    {
     "data": {
      "text/plain": [
       "[{'name': '7', 'bt': 51.0},\n",
       " {'name': '8', 'bt': 51.0},\n",
       " {'name': '3', 'bt': 22.0},\n",
       " {'name': '6', 'bt': 22.0},\n",
       " {'name': '9', 'bt': 22.0},\n",
       " {'name': '12', 'bt': 22.0},\n",
       " {'name': '1', 'bt': 0.0},\n",
       " {'name': '2', 'bt': 0.0},\n",
       " {'name': '4', 'bt': 0.0},\n",
       " {'name': '5', 'bt': 0.0},\n",
       " {'name': '10', 'bt': 0.0},\n",
       " {'name': '11', 'bt': 0.0},\n",
       " {'name': '13', 'bt': 0.0},\n",
       " {'name': '14', 'bt': 0.0}]"
      ]
     },
     "execution_count": 72,
     "metadata": {},
     "output_type": "execute_result"
    }
   ],
   "source": [
    "#点介数中心性函数调用\n",
    "btvs = []\n",
    "for p in zip(g.vs, g.betweenness()):\n",
    "    btvs.append({'name':p[0]['name'],'bt':p[1]})\n",
    "sorted(btvs, key=lambda k: k['bt'], reverse=True)"
   ]
  },
  {
   "cell_type": "code",
   "execution_count": 74,
   "metadata": {},
   "outputs": [
    {
     "data": {
      "text/plain": [
       "[{'name': '3', 'pg': 0.08621177802944507},\n",
       " {'name': '6', 'pg': 0.08621177802944507},\n",
       " {'name': '9', 'pg': 0.08621177802944506},\n",
       " {'name': '12', 'pg': 0.08621177802944506},\n",
       " {'name': '7', 'pg': 0.08311761850833196},\n",
       " {'name': '8', 'pg': 0.08311761850833196},\n",
       " {'name': '2', 'pg': 0.06111470635819448},\n",
       " {'name': '5', 'pg': 0.06111470635819448},\n",
       " {'name': '14', 'pg': 0.06111470635819448},\n",
       " {'name': '1', 'pg': 0.06111470635819447},\n",
       " {'name': '4', 'pg': 0.06111470635819447},\n",
       " {'name': '13', 'pg': 0.06111470635819447},\n",
       " {'name': '10', 'pg': 0.06111470635819446},\n",
       " {'name': '11', 'pg': 0.06111470635819446}]"
      ]
     },
     "execution_count": 74,
     "metadata": {},
     "output_type": "execute_result"
    }
   ],
   "source": [
    "#pagerank算法\n",
    "pg = g.pagerank()\n",
    "pgvs = []\n",
    "for p in zip(g.vs, pg):\n",
    "    pgvs.append({'name':p[0]['name'],'pg':p[1]})\n",
    "sorted(pgvs,key=lambda k: k['pg'], reverse=True)"
   ]
  },
  {
   "cell_type": "code",
   "execution_count": 80,
   "metadata": {},
   "outputs": [
    {
     "data": {
      "text/plain": [
       "[{'edge': ('7', '8'), 'bt': 49.0},\n",
       " {'edge': ('3', '7'), 'bt': 33.0},\n",
       " {'edge': ('7', '6'), 'bt': 33.0},\n",
       " {'edge': ('8', '9'), 'bt': 33.0},\n",
       " {'edge': ('8', '12'), 'bt': 33.0},\n",
       " {'edge': ('1', '3'), 'bt': 12.0},\n",
       " {'edge': ('2', '3'), 'bt': 12.0},\n",
       " {'edge': ('4', '6'), 'bt': 12.0},\n",
       " {'edge': ('5', '6'), 'bt': 12.0},\n",
       " {'edge': ('9', '10'), 'bt': 12.0},\n",
       " {'edge': ('9', '11'), 'bt': 12.0},\n",
       " {'edge': ('12', '13'), 'bt': 12.0},\n",
       " {'edge': ('12', '14'), 'bt': 12.0},\n",
       " {'edge': ('1', '2'), 'bt': 1.0},\n",
       " {'edge': ('4', '5'), 'bt': 1.0},\n",
       " {'edge': ('10', '11'), 'bt': 1.0},\n",
       " {'edge': ('13', '14'), 'bt': 1.0}]"
      ]
     },
     "execution_count": 80,
     "metadata": {},
     "output_type": "execute_result"
    }
   ],
   "source": [
    "#边介数中心性（社区发现算法相关）\n",
    "#也是GN算法\n",
    "btes = []\n",
    "for p in zip(g.es, g.edge_betweenness()):\n",
    "    e = p[0].tuple\n",
    "    btes.append({'edge':(names[e[0]],names[e[1]]),'bt':p[1]})\n",
    "sorted(btes, key=lambda k:k['bt'], reverse=True)"
   ]
  },
  {
   "cell_type": "code",
   "execution_count": 84,
   "metadata": {},
   "outputs": [
    {
     "name": "stdout",
     "output_type": "stream",
     "text": [
      "Dendrogram, 14 elements, 13 merges\n",
      "\n",
      "0 1 2 3 4 5 6 7 11 12 13 8 9 10\n",
      "| | | | | | | | |  |  |  | | |\n",
      "| | | | | | | | |  `--'  | | |\n",
      "| | | | | | | | |   |    | | |\n",
      "| | | | | | | | `---'    | `-'\n",
      "| | | | | | | |   |      |  | \n",
      "| | | | | `-' |   |      `--' \n",
      "| | | | |  |  |   |       |   \n",
      "| `-' | `--'  |   |       |   \n",
      "|  |  |  |    |   |       |   \n",
      "`--'  `--'    `---'       |   \n",
      " |     |        |         |   \n",
      " `-----'        `---------'   \n",
      "    |                |        \n",
      "    `----------------'\n",
      "['1', '2', '3', '7', '4', '5', '6', '8', '9', '10', '11', '12', '13', '14']\n"
     ]
    }
   ],
   "source": [
    "#社区发现算法的函数调用\n",
    "communities = g.community_edge_betweenness(directed=False, weights=None)\n",
    "print(communities)\n",
    "print(g.vs['name'])"
   ]
  }
 ],
 "metadata": {
  "kernelspec": {
   "display_name": "Python 3",
   "language": "python",
   "name": "python3"
  },
  "language_info": {
   "codemirror_mode": {
    "name": "ipython",
    "version": 3
   },
   "file_extension": ".py",
   "mimetype": "text/x-python",
   "name": "python",
   "nbconvert_exporter": "python",
   "pygments_lexer": "ipython3",
   "version": "3.6.6"
  }
 },
 "nbformat": 4,
 "nbformat_minor": 2
}
