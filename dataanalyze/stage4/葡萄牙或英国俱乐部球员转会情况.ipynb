{
 "cells": [
  {
   "cell_type": "code",
   "execution_count": 1,
   "metadata": {},
   "outputs": [],
   "source": [
    "import requests\n",
    "from bs4 import BeautifulSoup\n",
    "import pandas as pd\n",
    "import numpy as np\n",
    "import matplotlib.pyplot as plt\n",
    "from matplotlib.lines import Line2D\n",
    "%matplotlib inline"
   ]
  },
  {
   "cell_type": "code",
   "execution_count": 2,
   "metadata": {},
   "outputs": [],
   "source": [
    "links = {'porto': 'http://www.transfermarkt.co.uk/fc-porto/alletransfers/verein/720',\n",
    "         'benfica': 'http://www.transfermarkt.co.uk/benfica-lissabon/alletransfers/verein/294',\n",
    "         'sporting': 'http://www.transfermarkt.co.uk/sporting-lissabon/alletransfers/verein/336',\n",
    "         'man city': 'http://www.transfermarkt.co.uk/manchester-city/alletransfers/verein/281',\n",
    "         'man united': 'http://www.transfermarkt.co.uk/manchester-united/alletransfers/verein/985',\n",
    "         'chelsea': 'http://www.transfermarkt.co.uk/fc-chelsea/alletransfers/verein/631',\n",
    "         }"
   ]
  },
  {
   "cell_type": "code",
   "execution_count": 3,
   "metadata": {},
   "outputs": [
    {
     "name": "stderr",
     "output_type": "stream",
     "text": [
      "D:\\soft\\python27\\lib\\site-packages\\bs4\\__init__.py:181: UserWarning: No parser was explicitly specified, so I'm using the best available HTML parser for this system (\"html5lib\"). This usually isn't a problem, but if you run this code on another system, or in a different virtual environment, it may use a different parser and behave differently.\n",
      "\n",
      "The code that caused this warning is on line 174 of the file D:\\soft\\python27\\lib\\runpy.py. To get rid of this warning, change code that looks like this:\n",
      "\n",
      " BeautifulSoup(YOUR_MARKUP})\n",
      "\n",
      "to this:\n",
      "\n",
      " BeautifulSoup(YOUR_MARKUP, \"html5lib\")\n",
      "\n",
      "  markup_type=markup_type))\n"
     ]
    },
    {
     "name": "stdout",
     "output_type": "stream",
     "text": [
      "0\n"
     ]
    }
   ],
   "source": [
    "transfers = []\n",
    "\n",
    "for club, link in links.items():\n",
    "    response = requests.get(link)\n",
    "\n",
    "    soup = BeautifulSoup(response.text).find_all('div', attrs={'class': 'box'})\n",
    "\n",
    "    for box in soup:\n",
    "        title_soup = box\n",
    "        title = title_soup.find('div', attrs={'class': 'table-header'})\n",
    "\n",
    "        if title:\n",
    "            title = title.text.split('\\t')[4]\n",
    "\n",
    "            for row in box.find_all('tr'):\n",
    "                fields = title.split(' ')\n",
    "                fields.append(club)\n",
    "                for field in row.find_all('td'):\n",
    "                    if field[\"class\"][0] == 'rechts':\n",
    "                        fields.append(field.text)\n",
    "                    elif field[\"class\"][0] in ['redtext', 'greentext']:\n",
    "                        pass\n",
    "                    else:\n",
    "                        if field.a:\n",
    "                            try:\n",
    "                                fields.append(field.a[\"title\"])\n",
    "                            except:\n",
    "                                print \"error:\", field[\"class\"][0]\n",
    "                        else:\n",
    "                            try:\n",
    "                                fields.append(field[\"title\"])\n",
    "                            except:\n",
    "                                print \"error:\", field[\"class\"][0]\n",
    "                if len(fields)==8:\n",
    "                    transfers.append(fields)\n",
    "\n",
    "print len(transfers)"
   ]
  },
  {
   "cell_type": "code",
   "execution_count": null,
   "metadata": {},
   "outputs": [],
   "source": []
  }
 ],
 "metadata": {
  "kernelspec": {
   "display_name": "Python 2",
   "language": "python",
   "name": "python2"
  },
  "language_info": {
   "codemirror_mode": {
    "name": "ipython",
    "version": 2
   },
   "file_extension": ".py",
   "mimetype": "text/x-python",
   "name": "python",
   "nbconvert_exporter": "python",
   "pygments_lexer": "ipython2",
   "version": "2.7.15"
  }
 },
 "nbformat": 4,
 "nbformat_minor": 2
}
