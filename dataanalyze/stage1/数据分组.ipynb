{
 "cells": [
  {
   "cell_type": "code",
   "execution_count": 77,
   "metadata": {},
   "outputs": [
    {
     "name": "stdout",
     "output_type": "stream",
     "text": [
      "a\n",
      "0    1.624345\n",
      "1   -0.611756\n",
      "4    0.865408\n",
      "Name: data1, dtype: float64\n",
      "b\n",
      "2   -0.528172\n",
      "3   -1.072969\n",
      "Name: data1, dtype: float64\n",
      "0    1.624345\n",
      "1   -0.611756\n",
      "2   -0.528172\n",
      "3   -1.072969\n",
      "4    0.865408\n",
      "Name: data1, dtype: float64\n",
      "a\n",
      "  key1 key2     data1     data2\n",
      "0    a  one  1.624345 -2.301539\n",
      "1    a  two -0.611756  1.744812\n",
      "4    a  one  0.865408 -0.249370\n",
      "b\n",
      "  key1 key2     data1     data2\n",
      "2    b  one -0.528172 -0.761207\n",
      "3    b  two -1.072969  0.319039\n"
     ]
    }
   ],
   "source": [
    "import numpy as np\n",
    "import os\n",
    "import matplotlib.pyplot as plt\n",
    "import pandas as pd\n",
    "from pandas import Series, DataFrame\n",
    "np.random.seed(1)\n",
    "plt.rc('figure',figsize=(10,6))\n",
    "np.set_printoptions(precision=4)\n",
    "pd.options.display.notebook_repr_html = False\n",
    "\n",
    "##groupby技术\n",
    "df = DataFrame({'key1' : ['a', 'a', 'b', 'b', 'a'],\n",
    "                'key2' : ['one', 'two', 'one', 'two', 'one'],\n",
    "                'data1' : np.random.randn(5),\n",
    "                'data2' : np.random.randn(5)})\n",
    "\n",
    "grouped = df['data1'].groupby(df['key1'])\n",
    "for i,j in grouped:\n",
    "    print(i)\n",
    "    print(j)\n",
    "print(df['data1'])\n",
    "grouped1 = df.groupby(['key1'])\n",
    "for i,j in grouped1:\n",
    "    print(i)\n",
    "    print(j)"
   ]
  },
  {
   "cell_type": "code",
   "execution_count": 18,
   "metadata": {},
   "outputs": [
    {
     "data": {
      "text/plain": [
       "key1  key2\n",
       "a     one     1.244876\n",
       "      two    -0.611756\n",
       "b     one    -0.528172\n",
       "      two    -1.072969\n",
       "Name: data1, dtype: float64"
      ]
     },
     "execution_count": 18,
     "metadata": {},
     "output_type": "execute_result"
    }
   ],
   "source": [
    "grouped.mean()\n",
    "groups = df['data1'].groupby([df['key1'],df['key2']])\n",
    "groups.mean()"
   ]
  },
  {
   "cell_type": "code",
   "execution_count": 23,
   "metadata": {},
   "outputs": [
    {
     "data": {
      "text/plain": [
       "key1  key2\n",
       "a     one     2\n",
       "      two     1\n",
       "b     one     1\n",
       "      two     1\n",
       "dtype: int64"
      ]
     },
     "execution_count": 23,
     "metadata": {},
     "output_type": "execute_result"
    }
   ],
   "source": [
    "states = np.array(['Ohio', 'California', 'California', 'Ohio', 'Ohio'])\n",
    "years = np.array([2005, 2005, 2006, 2005, 2006])\n",
    "df['data1'].groupby([states, years]).mean()\n",
    "df.groupby('key1').mean()\n",
    "df.groupby(['key1', 'key2']).mean()\n",
    "df.groupby(['key1', 'key2']).size()"
   ]
  },
  {
   "cell_type": "code",
   "execution_count": 27,
   "metadata": {},
   "outputs": [
    {
     "name": "stdout",
     "output_type": "stream",
     "text": [
      "a\n",
      "  key1 key2     data1     data2\n",
      "0    a  one  1.624345 -2.301539\n",
      "1    a  two -0.611756  1.744812\n",
      "4    a  one  0.865408 -0.249370\n",
      "b\n",
      "  key1 key2     data1     data2\n",
      "2    b  one -0.528172 -0.761207\n",
      "3    b  two -1.072969  0.319039\n",
      "('a', 'one')\n",
      "  key1 key2     data1     data2\n",
      "0    a  one  1.624345 -2.301539\n",
      "4    a  one  0.865408 -0.249370\n",
      "('a', 'two')\n",
      "  key1 key2     data1     data2\n",
      "1    a  two -0.611756  1.744812\n",
      "('b', 'one')\n",
      "  key1 key2     data1     data2\n",
      "2    b  one -0.528172 -0.761207\n",
      "('b', 'two')\n",
      "  key1 key2     data1     data2\n",
      "3    b  two -1.072969  0.319039\n"
     ]
    }
   ],
   "source": [
    "#对分组进行迭代\n",
    "for name, group in df.groupby('key1'):\n",
    "    print(name)\n",
    "    print(group)\n",
    "\n",
    "for (k1, k2), group in df.groupby(['key1', 'key2']):\n",
    "    print((k1, k2))\n",
    "    print(group)"
   ]
  },
  {
   "cell_type": "code",
   "execution_count": 32,
   "metadata": {},
   "outputs": [
    {
     "data": {
      "text/plain": [
       "  key1 key2     data1     data2\n",
       "2    b  one -0.528172 -0.761207\n",
       "3    b  two -1.072969  0.319039"
      ]
     },
     "execution_count": 32,
     "metadata": {},
     "output_type": "execute_result"
    }
   ],
   "source": [
    "pieces = dict(list(df.groupby('key1')))\n",
    "pieces['b']"
   ]
  },
  {
   "cell_type": "code",
   "execution_count": 34,
   "metadata": {},
   "outputs": [
    {
     "data": {
      "text/plain": [
       "{dtype('float64'):       data1     data2\n",
       " 0  1.624345 -2.301539\n",
       " 1 -0.611756  1.744812\n",
       " 2 -0.528172 -0.761207\n",
       " 3 -1.072969  0.319039\n",
       " 4  0.865408 -0.249370, dtype('O'):   key1 key2\n",
       " 0    a  one\n",
       " 1    a  two\n",
       " 2    b  one\n",
       " 3    b  two\n",
       " 4    a  one}"
      ]
     },
     "execution_count": 34,
     "metadata": {},
     "output_type": "execute_result"
    }
   ],
   "source": [
    "df.dtypes\n",
    "grouped = df.groupby(df.dtypes, axis=1)\n",
    "dict(list(grouped))"
   ]
  },
  {
   "cell_type": "code",
   "execution_count": 54,
   "metadata": {},
   "outputs": [
    {
     "name": "stdout",
     "output_type": "stream",
     "text": [
      "blue\n",
      "               c         d\n",
      "Joe    -0.175459 -0.933915\n",
      "Steve  -0.475373  0.477610\n",
      "Wes          NaN -0.035368\n",
      "Jim     0.367232  1.232899\n",
      "Travis -0.830169  0.451616\n",
      "red\n",
      "               a         b         e\n",
      "Joe    -0.184176 -0.115985 -0.533020\n",
      "Steve  -1.426555  1.767960 -1.021886\n",
      "Wes     0.794528       NaN  2.110605\n",
      "Jim    -1.306534  0.076380 -0.422857\n",
      "Travis  0.086464 -2.142467  1.104174\n"
     ]
    },
    {
     "name": "stderr",
     "output_type": "stream",
     "text": [
      "d:\\soft\\python36\\lib\\site-packages\\ipykernel_launcher.py:5: DeprecationWarning: \n",
      ".ix is deprecated. Please use\n",
      ".loc for label based indexing or\n",
      ".iloc for positional indexing\n",
      "\n",
      "See the documentation here:\n",
      "http://pandas.pydata.org/pandas-docs/stable/indexing.html#ix-indexer-is-deprecated\n",
      "  \"\"\"\n"
     ]
    },
    {
     "data": {
      "text/plain": [
       "            blue       red\n",
       "Joe    -1.109374 -0.833182\n",
       "Steve   0.002237 -0.680481\n",
       "Wes    -0.035368  2.905133\n",
       "Jim     1.600131 -1.653011\n",
       "Travis -0.378553 -0.951828"
      ]
     },
     "execution_count": 54,
     "metadata": {},
     "output_type": "execute_result"
    }
   ],
   "source": [
    "#通过字典后Series分组\n",
    "people = DataFrame(np.random.randn(5, 5),\n",
    "                   columns=['a', 'b', 'c', 'd', 'e'],\n",
    "                   index=['Joe', 'Steve', 'Wes', 'Jim', 'Travis'])\n",
    "people.ix[2:3, ['b', 'c']] = np.nan\n",
    "mapping = {'a': 'red', 'b': 'red', 'c': 'blue',\n",
    "           'd': 'blue', 'e': 'red', 'f' : 'orange'}\n",
    "by_column = people.groupby(mapping, axis=1)\n",
    "for i, j in by_column:\n",
    "    print(i)\n",
    "    print(j)\n",
    "by_column.sum()"
   ]
  },
  {
   "cell_type": "code",
   "execution_count": 55,
   "metadata": {},
   "outputs": [
    {
     "name": "stdout",
     "output_type": "stream",
     "text": [
      "blue\n",
      "               c         d\n",
      "Joe    -0.175459 -0.933915\n",
      "Steve  -0.475373  0.477610\n",
      "Wes          NaN -0.035368\n",
      "Jim     0.367232  1.232899\n",
      "Travis -0.830169  0.451616\n",
      "red\n",
      "               a         b         e\n",
      "Joe    -0.184176 -0.115985 -0.533020\n",
      "Steve  -1.426555  1.767960 -1.021886\n",
      "Wes     0.794528       NaN  2.110605\n",
      "Jim    -1.306534  0.076380 -0.422857\n",
      "Travis  0.086464 -2.142467  1.104174\n"
     ]
    },
    {
     "data": {
      "text/plain": [
       "        blue  red\n",
       "Joe        2    3\n",
       "Steve      2    3\n",
       "Wes        1    2\n",
       "Jim        2    3\n",
       "Travis     2    3"
      ]
     },
     "execution_count": 55,
     "metadata": {},
     "output_type": "execute_result"
    }
   ],
   "source": [
    "map_series = Series(mapping)\n",
    "by_column2 = people.groupby(map_series, axis=1)\n",
    "for i, j in by_column2:\n",
    "    print(i)\n",
    "    print(j)\n",
    "by_column2.count()"
   ]
  },
  {
   "cell_type": "code",
   "execution_count": 66,
   "metadata": {},
   "outputs": [
    {
     "name": "stdout",
     "output_type": "stream",
     "text": [
      "               a         b         c         d         e\n",
      "Joe    -0.184176 -0.115985 -0.175459 -0.933915 -0.533020\n",
      "Steve  -1.426555  1.767960 -0.475373  0.477610 -1.021886\n",
      "Wes     0.794528       NaN       NaN -0.035368  2.110605\n",
      "Jim    -1.306534  0.076380  0.367232  1.232899 -0.422857\n",
      "Travis  0.086464 -2.142467 -0.830169  0.451616  1.104174\n",
      "3\n",
      "            a         b         c         d         e\n",
      "Joe -0.184176 -0.115985 -0.175459 -0.933915 -0.533020\n",
      "Wes  0.794528       NaN       NaN -0.035368  2.110605\n",
      "Jim -1.306534  0.076380  0.367232  1.232899 -0.422857\n",
      "5\n",
      "              a        b         c        d         e\n",
      "Steve -1.426555  1.76796 -0.475373  0.47761 -1.021886\n",
      "6\n",
      "               a         b         c         d         e\n",
      "Travis  0.086464 -2.142467 -0.830169  0.451616  1.104174\n",
      "(3, 'one')\n",
      "            a         b         c         d         e\n",
      "Joe -0.184176 -0.115985 -0.175459 -0.933915 -0.533020\n",
      "Wes  0.794528       NaN       NaN -0.035368  2.110605\n",
      "(3, 'two')\n",
      "            a        b         c         d         e\n",
      "Jim -1.306534  0.07638  0.367232  1.232899 -0.422857\n",
      "(5, 'one')\n",
      "              a        b         c        d         e\n",
      "Steve -1.426555  1.76796 -0.475373  0.47761 -1.021886\n",
      "(6, 'two')\n",
      "               a         b         c         d         e\n",
      "Travis  0.086464 -2.142467 -0.830169  0.451616  1.104174\n"
     ]
    }
   ],
   "source": [
    "#通过函数进行分组\n",
    "print(people)\n",
    "g1 = people.groupby(len)\n",
    "for i, j in g1:\n",
    "    print(i)\n",
    "    print(j)\n",
    "g1.sum()\n",
    "key_list = ['one', 'one', 'one', 'two', 'two']\n",
    "g2 = people.groupby([len, key_list])\n",
    "for i, j in g2:\n",
    "    print(i)\n",
    "    print(j)"
   ]
  },
  {
   "cell_type": "code",
   "execution_count": 67,
   "metadata": {},
   "outputs": [
    {
     "data": {
      "text/plain": [
       "MultiIndex(levels=[['JP', 'US'], [1, 3, 5]],\n",
       "           labels=[[1, 1, 1, 0, 0], [0, 1, 2, 0, 1]],\n",
       "           names=['cty', 'tenor'])"
      ]
     },
     "execution_count": 67,
     "metadata": {},
     "output_type": "execute_result"
    }
   ],
   "source": [
    "#通过索引进行分组\n",
    "columns = pd.MultiIndex.from_arrays([['US', 'US', 'US', 'JP', 'JP'],\n",
    "                                    [1, 3, 5, 1, 3]], names=['cty', 'tenor'])\n",
    "print(columns)\n"
   ]
  }
 ],
 "metadata": {
  "kernelspec": {
   "display_name": "Python 3",
   "language": "python",
   "name": "python3"
  },
  "language_info": {
   "codemirror_mode": {
    "name": "ipython",
    "version": 3
   },
   "file_extension": ".py",
   "mimetype": "text/x-python",
   "name": "python",
   "nbconvert_exporter": "python",
   "pygments_lexer": "ipython3",
   "version": "3.6.6"
  }
 },
 "nbformat": 4,
 "nbformat_minor": 2
}
