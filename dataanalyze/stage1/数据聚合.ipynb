{
 "cells": [
  {
   "cell_type": "code",
   "execution_count": 44,
   "metadata": {},
   "outputs": [
    {
     "data": {
      "text/plain": [
       "  key1 key2     data1     data2\n",
       "0    a  one  1.216092 -0.092637\n",
       "1    a  two -1.177961  1.856132\n",
       "2    b  one -1.730001  0.019907\n",
       "3    b  two  2.870583  0.211138\n",
       "4    a  one  0.725066 -1.153626"
      ]
     },
     "execution_count": 44,
     "metadata": {},
     "output_type": "execute_result"
    }
   ],
   "source": [
    "import numpy as np\n",
    "import pandas as pd\n",
    "from pandas import Series, DataFrame\n",
    "#np.set_printoptions(precision=4)\n",
    "# pd.options.display.notebook_repr_html = False\n",
    "df = DataFrame({'key1' : ['a', 'a', 'b', 'b', 'a'],\n",
    "                'key2' : ['one', 'two', 'one', 'two', 'one'],\n",
    "                'data1' : np.random.randn(5),\n",
    "                'data2' : np.random.randn(5)})\n",
    "df"
   ]
  },
  {
   "cell_type": "code",
   "execution_count": 45,
   "metadata": {},
   "outputs": [
    {
     "name": "stdout",
     "output_type": "stream",
     "text": [
      "a\n",
      "  key1 key2     data1     data2\n",
      "0    a  one  1.216092 -0.092637\n",
      "1    a  two -1.177961  1.856132\n",
      "4    a  one  0.725066 -1.153626\n",
      "b\n",
      "  key1 key2     data1     data2\n",
      "2    b  one -1.730001  0.019907\n",
      "3    b  two  2.870583  0.211138\n"
     ]
    },
    {
     "data": {
      "text/plain": [
       "key1\n",
       "a   -0.226447\n",
       "b   -0.579855\n",
       "Name: data1, dtype: float64"
      ]
     },
     "execution_count": 45,
     "metadata": {},
     "output_type": "execute_result"
    }
   ],
   "source": [
    "grouped = df.groupby('key1')\n",
    "for i, j in grouped:\n",
    "    print(i)\n",
    "    print(j)\n",
    "grouped['data1'].quantile(0.25)"
   ]
  },
  {
   "cell_type": "code",
   "execution_count": 46,
   "metadata": {},
   "outputs": [
    {
     "data": {
      "text/plain": [
       "     data1                                                              \\\n",
       "     count      mean       std       min       25%       50%       75%   \n",
       "key1                                                                     \n",
       "a      3.0  0.254399  1.264523 -1.177961 -0.226447  0.725066  0.970579   \n",
       "b      2.0  0.570291  3.253105 -1.730001 -0.579855  0.570291  1.720437   \n",
       "\n",
       "               data2                                                    \\\n",
       "           max count      mean       std       min       25%       50%   \n",
       "key1                                                                     \n",
       "a     1.216092   3.0  0.203289  1.526545 -1.153626 -0.623132 -0.092637   \n",
       "b     2.870583   2.0  0.115522  0.135221  0.019907  0.067715  0.115522   \n",
       "\n",
       "                          \n",
       "           75%       max  \n",
       "key1                      \n",
       "a     0.881747  1.856132  \n",
       "b     0.163330  0.211138  "
      ]
     },
     "execution_count": 46,
     "metadata": {},
     "output_type": "execute_result"
    }
   ],
   "source": [
    "def peak_to_peak(arr):\n",
    "    return arr.max() - arr.min()\n",
    "grouped.agg(peak_to_peak)\n",
    "grouped.describe()"
   ]
  },
  {
   "cell_type": "code",
   "execution_count": 64,
   "metadata": {},
   "outputs": [
    {
     "name": "stdout",
     "output_type": "stream",
     "text": [
      "   total_bill   tip     sex smoker  day    time  size   tip_pct\n",
      "0       16.99  1.01  Female     No  Sun  Dinner     2  0.059447\n",
      "1       10.34  1.66    Male     No  Sun  Dinner     3  0.160542\n",
      "2       21.01  3.50    Male     No  Sun  Dinner     3  0.166587\n",
      "3       23.68  3.31    Male     No  Sun  Dinner     2  0.139780\n",
      "4       24.59  3.61  Female     No  Sun  Dinner     4  0.146808\n",
      "5       25.29  4.71    Male     No  Sun  Dinner     4  0.186240\n"
     ]
    },
    {
     "data": {
      "text/plain": [
       "                tip_pct                               size\n",
       "                    min       max      mean       std  sum\n",
       "sex    smoker                                             \n",
       "Female No      0.056797  0.252672  0.156921  0.036421  140\n",
       "       Yes     0.056433  0.416667  0.182150  0.071595   74\n",
       "Male   No      0.071804  0.291990  0.160669  0.041849  263\n",
       "       Yes     0.035638  0.710345  0.152771  0.090588  150"
      ]
     },
     "execution_count": 64,
     "metadata": {},
     "output_type": "execute_result"
    }
   ],
   "source": [
    "#面向列的多函数应用\n",
    "tips = pd.read_csv('e:/data/tips.csv')\n",
    "tips['tip_pct'] = tips['tip'] / tips['total_bill']\n",
    "print(tips[:6])\n",
    "grouped = tips.groupby(['sex', 'smoker'])\n",
    "grouped_pct = grouped['tip_pct']\n",
    "grouped_pct.agg('mean')\n",
    "# for i, j in grouped_pct:\n",
    "#     print(i)\n",
    "#     print(j)\n",
    "grouped_pct.agg(['mean', 'std', peak_to_peak])\n",
    "grouped_pct.agg([('foo', 'mean'), ('bar', np.std)])\n",
    "functions = ['count', 'mean', 'max']\n",
    "result = grouped['tip_pct', 'total_bill'].agg(functions)\n",
    "result\n",
    "result['tip_pct']\n",
    "ftuples = [('Durchschnitt', 'mean'), ('Abweichung', np.var)]\n",
    "grouped['tip_pct', 'total_bill'].agg(ftuples)\n",
    "grouped.agg({'tip' : np.max, 'size' : 'sum'})\n",
    "grouped.agg({'tip_pct' : ['min', 'max', 'mean', 'std'],\n",
    "             'size' : 'sum'})"
   ]
  }
 ],
 "metadata": {
  "kernelspec": {
   "display_name": "Python 3",
   "language": "python",
   "name": "python3"
  },
  "language_info": {
   "codemirror_mode": {
    "name": "ipython",
    "version": 3
   },
   "file_extension": ".py",
   "mimetype": "text/x-python",
   "name": "python",
   "nbconvert_exporter": "python",
   "pygments_lexer": "ipython3",
   "version": "3.6.6"
  }
 },
 "nbformat": 4,
 "nbformat_minor": 2
}
