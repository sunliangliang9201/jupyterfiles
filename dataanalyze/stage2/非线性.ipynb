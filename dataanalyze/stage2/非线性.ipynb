{
 "cells": [
  {
   "cell_type": "code",
   "execution_count": 3,
   "metadata": {},
   "outputs": [],
   "source": [
    "import numpy as np\n",
    "import seaborn as sns\n",
    "import pandas as pd\n",
    "import matplotlib.pyplot as plt"
   ]
  },
  {
   "cell_type": "code",
   "execution_count": 5,
   "metadata": {},
   "outputs": [
    {
     "name": "stderr",
     "output_type": "stream",
     "text": [
      "d:\\soft\\python36\\lib\\site-packages\\matplotlib\\figure.py:459: UserWarning: matplotlib is currently using a non-GUI backend, so cannot show the figure\n",
      "  \"matplotlib is currently using a non-GUI backend, \"\n"
     ]
    },
    {
     "data": {
      "image/png": "[encoded data removed]",
      "text/plain": [
       "<Figure size 432x288 with 1 Axes>"
      ]
     },
     "metadata": {},
     "output_type": "display_data"
    }
   ],
   "source": [
    "x=pd.DataFrame([1.5,2.8,4.5,7.5,10.5,13.5,15.1,16.5,19.5,22.5,24.5,26.5])\n",
    "y=pd.DataFrame([7.0,5.5,4.6,3.6,2.9,2.7,2.5,2.4,2.2,2.1,1.9,1.8])\n",
    "fig = plt.figure()\n",
    "ax = fig.add_subplot(1,1,1)\n",
    "ax.scatter(x,y)\n",
    "fig.show()"
   ]
  },
  {
   "cell_type": "code",
   "execution_count": 10,
   "metadata": {},
   "outputs": [
    {
     "name": "stdout",
     "output_type": "stream",
     "text": [
      "[[-0.17002988]]\n",
      "0.494218627800241\n",
      "0.7963850926893034\n"
     ]
    }
   ],
   "source": [
    "from sklearn.linear_model import LinearRegression\n",
    "from sklearn import metrics\n",
    "linreg = LinearRegression()\n",
    "linreg.fit(x,y)\n",
    "print(linreg.coef_)\n",
    "y_pred = linreg.predict(x)\n",
    "print(metrics.mean_squared_error(y,y_pred))\n",
    "print(linreg.score(x,y))\n",
    "#很明显不是线性规律"
   ]
  },
  {
   "cell_type": "code",
   "execution_count": 19,
   "metadata": {},
   "outputs": [
    {
     "name": "stdout",
     "output_type": "stream",
     "text": [
      "[[-0.4656313   0.01075704]]\n",
      "0.11811957095094383\n",
      "0.9513354937716414\n"
     ]
    }
   ],
   "source": [
    "x1 = x\n",
    "x2 = x**2\n",
    "x1['x2'] = x2\n",
    "linreg = LinearRegression()\n",
    "linreg.fit(x1,y)\n",
    "print(linreg.coef_)\n",
    "y_pred = linreg.predict(x1)\n",
    "print(metrics.mean_squared_error(y,y_pred))\n",
    "print(linreg.score(x1,y))"
   ]
  },
  {
   "cell_type": "code",
   "execution_count": 20,
   "metadata": {},
   "outputs": [
    {
     "name": "stdout",
     "output_type": "stream",
     "text": [
      "[[-1.75683848]]\n",
      "0.035512357185799176\n",
      "0.9853691364306618\n"
     ]
    }
   ],
   "source": [
    "x2 = pd.DataFrame(np.log(x[0]))\n",
    "linreg = LinearRegression()\n",
    "linreg.fit(x2,y)\n",
    "print(linreg.coef_)\n",
    "y_pred = linreg.predict(x2)\n",
    "print(metrics.mean_squared_error(y,y_pred))\n",
    "print(linreg.score(x2,y))"
   ]
  },
  {
   "cell_type": "code",
   "execution_count": 22,
   "metadata": {},
   "outputs": [
    {
     "name": "stdout",
     "output_type": "stream",
     "text": [
      "[[-0.10144591  0.00191548]]\n",
      "0.0028229867140481778\n",
      "0.9837791398904483\n"
     ]
    }
   ],
   "source": [
    "y2 = pd.DataFrame(np.log(y))\n",
    "linreg = LinearRegression()\n",
    "linreg.fit(x,y2)\n",
    "print(linreg.coef_)\n",
    "y_pred = linreg.predict(x)\n",
    "print(metrics.mean_squared_error(y2,y_pred))\n",
    "print(linreg.score(x,y2))"
   ]
  },
  {
   "cell_type": "code",
   "execution_count": 23,
   "metadata": {},
   "outputs": [
    {
     "name": "stdout",
     "output_type": "stream",
     "text": [
      "[[-0.47242789]]\n",
      "0.0010862101591600055\n",
      "0.9937586447170904\n"
     ]
    }
   ],
   "source": [
    "linreg = LinearRegression()\n",
    "linreg.fit(x2,y2)\n",
    "print(linreg.coef_)\n",
    "y_pred = linreg.predict(x2)\n",
    "print(metrics.mean_squared_error(y2,y_pred))\n",
    "print(linreg.score(x2,y2))"
   ]
  }
 ],
 "metadata": {
  "kernelspec": {
   "display_name": "Python 3",
   "language": "python",
   "name": "python3"
  },
  "language_info": {
   "codemirror_mode": {
    "name": "ipython",
    "version": 3
   },
   "file_extension": ".py",
   "mimetype": "text/x-python",
   "name": "python",
   "nbconvert_exporter": "python",
   "pygments_lexer": "ipython3",
   "version": "3.6.6"
  }
 },
 "nbformat": 4,
 "nbformat_minor": 2
}
