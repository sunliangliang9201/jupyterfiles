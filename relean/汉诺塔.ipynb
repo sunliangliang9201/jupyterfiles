{
 "cells": [
  {
   "cell_type": "code",
   "execution_count": 1,
   "metadata": {},
   "outputs": [
    {
     "name": "stdout",
     "output_type": "stream",
     "text": [
      "A-->C\n",
      "A-->B\n",
      "C-->A\n",
      "A-->C\n",
      "B-->C\n",
      "B-->A\n",
      "C-->B\n",
      "A-->B\n",
      "C-->A\n",
      "C-->B\n",
      "A-->C\n",
      "C-->A\n",
      "B-->A\n",
      "B-->C\n",
      "A-->B\n"
     ]
    }
   ],
   "source": [
    "def hanoi(n, A, B, C):\n",
    "    if n == 1:\n",
    "        print(A + '-->' + B)\n",
    "    else:\n",
    "        hanoi(n-1, A, C, B)\n",
    "        print(A + '-->' + B)\n",
    "        hanoi(n-1, C, A, B)\n",
    "        \n",
    "hanoi(4,'A','B','C')"
   ]
  }
 ],
 "metadata": {
  "kernelspec": {
   "display_name": "Python 3",
   "language": "python",
   "name": "python3"
  },
  "language_info": {
   "codemirror_mode": {
    "name": "ipython",
    "version": 3
   },
   "file_extension": ".py",
   "mimetype": "text/x-python",
   "name": "python",
   "nbconvert_exporter": "python",
   "pygments_lexer": "ipython3",
   "version": "3.6.6"
  }
 },
 "nbformat": 4,
 "nbformat_minor": 2
}
