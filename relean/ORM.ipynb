{
 "cells": [
  {
   "cell_type": "code",
   "execution_count": 83,
   "metadata": {},
   "outputs": [
    {
     "name": "stdout",
     "output_type": "stream",
     "text": [
      "Model name : User\n",
      "Field name: id\n",
      "Field name: name\n",
      "{'id': <__main__.IntegerField object at 0x000001D24653EDD8>, 'name': <__main__.StringField object at 0x000001D246FD5B38>}\n",
      "__setattr__\n",
      "__setattr__\n",
      "sql insert into User(id,name) values(?,?)\n",
      "args: [100, 'sunll']\n"
     ]
    }
   ],
   "source": [
    "class Field():\n",
    "    def __init__(self,name,col_type):\n",
    "        self.name = name\n",
    "        self.col_type = col_type\n",
    "class IntegerField(Field):\n",
    "    def __init__(self,name):\n",
    "        super(IntegerField,self).__init__(name,'integer')\n",
    "class StringField(Field):\n",
    "    def __init__(self,name):\n",
    "        super(StringField,self).__init__(name,'varchar(22)')\n",
    "class ModelMetaclass(type):\n",
    "    def __new__(cls,name,bases,attrs):\n",
    "        #print(attrs)\n",
    "        if name == 'Model':\n",
    "            return type.__new__(cls,name,bases, attrs)\n",
    "        print('Model name : %s' % name)\n",
    "        mappings = {}\n",
    "        for k, v in attrs.items():\n",
    "            if isinstance(v, Field):\n",
    "                print('Field name: %s' % k)\n",
    "                mappings[k] = v\n",
    "        print(mappings)\n",
    "        for k in mappings.keys():\n",
    "            attrs.pop(k)\n",
    "        attrs['__mappings__'] = mappings\n",
    "        attrs['__table__'] = name\n",
    "        return type.__new__(cls,name,bases,attrs)\n",
    "class Model(dict,metaclass = ModelMetaclass):\n",
    "    def __init__(self,**keywd):\n",
    "        super(Model,self).__init__(**keywd)\n",
    "    def __getattr__(self, key):\n",
    "        try:\n",
    "            return self[key]\n",
    "        except KeyError:\n",
    "            raise AttributeError(\"'Model' object has no attribute %s\" % key)\n",
    "    def __setattr__(self,key, value):\n",
    "        print('__setattr__')\n",
    "        self[key] = value\n",
    "    def save(self):\n",
    "        fields = []\n",
    "        params = []\n",
    "        args = []\n",
    "        for k, v in self.__mappings__.items():\n",
    "            fields.append(v.name)\n",
    "            params.append('?')\n",
    "            args.append(getattr(self, k,None))\n",
    "        sql = 'insert into %s(%s) values(%s)' % (self.__table__,','.join(fields),','.join(params))\n",
    "        print('sql',sql)\n",
    "        print('args:',args)\n",
    "class User(Model):\n",
    "    id = IntegerField('id')\n",
    "    name = StringField('name')\n",
    "    \n",
    "user = User()\n",
    "user.id = 100\n",
    "user.name = 'sunll'\n",
    "user.save()"
   ]
  }
 ],
 "metadata": {
  "kernelspec": {
   "display_name": "Python 3",
   "language": "python",
   "name": "python3"
  },
  "language_info": {
   "codemirror_mode": {
    "name": "ipython",
    "version": 3
   },
   "file_extension": ".py",
   "mimetype": "text/x-python",
   "name": "python",
   "nbconvert_exporter": "python",
   "pygments_lexer": "ipython3",
   "version": "3.6.6"
  }
 },
 "nbformat": 4,
 "nbformat_minor": 2
}
