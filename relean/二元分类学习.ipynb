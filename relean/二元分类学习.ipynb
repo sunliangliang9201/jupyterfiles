{
 "cells": [
  {
   "cell_type": "code",
   "execution_count": 12,
   "metadata": {},
   "outputs": [
    {
     "name": "stdout",
     "output_type": "stream",
     "text": [
      "[[ 0.  0.  5. ...  0.  0.  0.]\n",
      " [ 0.  0.  0. ... 10.  0.  0.]\n",
      " [ 0.  0.  0. ... 16.  9.  0.]\n",
      " ...\n",
      " [ 0.  0.  1. ...  6.  0.  0.]\n",
      " [ 0.  0.  2. ... 12.  0.  0.]\n",
      " [ 0.  0. 10. ... 12.  1.  0.]]\n",
      "[0 1 2 ... 8 9 8]\n",
      "[6]\n",
      "6\n"
     ]
    }
   ],
   "source": [
    "from sklearn import svm, datasets\n",
    "\n",
    "class Dataset(object):\n",
    "    def __init__(self,name):\n",
    "        self.name = name\n",
    "\n",
    "    def download_data(self):\n",
    "        if self.name == 'iris':\n",
    "            self.download_data = datasets.load_iris()\n",
    "        elif self.name == 'digits':\n",
    "            self.download_data = datasets.load_digits()\n",
    "        else:\n",
    "            pass\n",
    "    def generate_xy(self):\n",
    "        self.download_data()\n",
    "        x = self.download_data.data\n",
    "        y = self.download_data.target\n",
    "        print(x)\n",
    "        print(y)\n",
    "        return x,y\n",
    "    def get_train_test_set(self,ratio):\n",
    "        x, y = self.generate_xy()\n",
    "        n_samples = len(x)\n",
    "        n_train = int(n_samples*ratio)\n",
    "        X_train = x[:n_train]\n",
    "        Y_train = y[:n_train]\n",
    "        X_test = x[n_train:]\n",
    "        Y_test = y[n_train:]\n",
    "        return X_train, Y_train, X_test, Y_test\n",
    "\n",
    "X_train, y_train, X_test, y_test = Dataset('digits').get_train_test_set(0.8)\n",
    "clf = svm.SVC()\n",
    "clf.fit(X_train,y_train)\n",
    "#.....\n",
    "test_point = X_test[12]\n",
    "y_true = y_test[12]\n",
    "print(clf.predict([test_point]))\n",
    "print(y_true)"
   ]
  }
 ],
 "metadata": {
  "kernelspec": {
   "display_name": "Python 3",
   "language": "python",
   "name": "python3"
  },
  "language_info": {
   "codemirror_mode": {
    "name": "ipython",
    "version": 3
   },
   "file_extension": ".py",
   "mimetype": "text/x-python",
   "name": "python",
   "nbconvert_exporter": "python",
   "pygments_lexer": "ipython3",
   "version": "3.6.6"
  }
 },
 "nbformat": 4,
 "nbformat_minor": 2
}
