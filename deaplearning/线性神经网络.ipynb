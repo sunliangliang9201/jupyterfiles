{
 "cells": [
  {
   "cell_type": "code",
   "execution_count": 2,
   "metadata": {},
   "outputs": [
    {
     "name": "stdout",
     "output_type": "stream",
     "text": [
      "[ 0.26439866  0.44690607  0.87398952 -0.70123774 -0.83450389 -0.09525456]\n"
     ]
    },
    {
     "data": {
      "image/png": "[encoded data removed]",
      "text/plain": [
       "<Figure size 432x288 with 1 Axes>"
      ]
     },
     "metadata": {},
     "output_type": "display_data"
    }
   ],
   "source": [
    "#线性神经网络解决疑惑问题，即单线不可分类所有数据的问题\n",
    "import numpy as np\n",
    "import matplotlib.pyplot as plt\n",
    "\n",
    "X = np.array([[1,0,0,0,0,0],\n",
    "              [1,0,1,0,0,1],\n",
    "              [1,1,0,1,0,0],\n",
    "              [1,1,1,1,1,1]])\n",
    "Y = np.array([-1,1,1,-1])\n",
    "W = (np.random.rand(6)-0.5)*2\n",
    "print(W)\n",
    "lr = 0.11\n",
    "n = 0\n",
    "O = 0\n",
    "\n",
    "def update():\n",
    "    global X,Y,W,LR,n\n",
    "    n += 1\n",
    "    O = np.dot(X,W.T)\n",
    "    W_C = lr * ((Y - O.T).dot(X)) / X.shape[0]\n",
    "    W = W + W_C\n",
    "\n",
    "for i in range(1000):\n",
    "    update()\n",
    "\n",
    "x1 = [0,1]\n",
    "y1 = [1,0]\n",
    "\n",
    "x2 = [0,1]\n",
    "y2 = [0,1]\n",
    "\n",
    "def caculate(x,root):\n",
    "    a = W[5]\n",
    "    b = W[2] + x*W[4]\n",
    "    c = W[0] + x*W[1] + x*x*W[3]\n",
    "    if root == 1:\n",
    "        return (-b + np.sqrt(b*b-4*a*c))/(2*a)\n",
    "    if root == 2:\n",
    "        return (-b - np.sqrt(b*b-4*a*c))/(2*a)\n",
    "xdata = np.linspace(-2,2)\n",
    "plt.figure()\n",
    "\n",
    "plt.plot(xdata,caculate(xdata,1),'r')\n",
    "plt.plot(xdata,caculate(xdata,2),'r')\n",
    "\n",
    "plt.plot(x1,y1,'bo')\n",
    "plt.plot(x2,y2,'yo')\n",
    "plt.show()"
   ]
  },
  {
   "cell_type": "code",
   "execution_count": null,
   "metadata": {},
   "outputs": [],
   "source": []
  }
 ],
 "metadata": {
  "kernelspec": {
   "display_name": "Python 3",
   "language": "python",
   "name": "python3"
  },
  "language_info": {
   "codemirror_mode": {
    "name": "ipython",
    "version": 3
   },
   "file_extension": ".py",
   "mimetype": "text/x-python",
   "name": "python",
   "nbconvert_exporter": "python",
   "pygments_lexer": "ipython3",
   "version": "3.6.6"
  }
 },
 "nbformat": 4,
 "nbformat_minor": 2
}
