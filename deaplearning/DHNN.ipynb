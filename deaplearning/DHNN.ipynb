{
 "cells": [
  {
   "cell_type": "code",
   "execution_count": 2,
   "metadata": {},
   "outputs": [
    {
     "data": {
      "image/png": "[encoded data removed]",
      "text/plain": [
       "<Figure size 432x288 with 1 Axes>"
      ]
     },
     "metadata": {},
     "output_type": "display_data"
    },
    {
     "data": {
      "image/png": "[encoded data removed]",
      "text/plain": [
       "<Figure size 432x288 with 1 Axes>"
      ]
     },
     "metadata": {},
     "output_type": "display_data"
    },
    {
     "data": {
      "image/png": "[encoded data removed]",
      "text/plain": [
       "<Figure size 432x288 with 1 Axes>"
      ]
     },
     "metadata": {},
     "output_type": "display_data"
    },
    {
     "data": {
      "image/png": "[encoded data removed]",
      "text/plain": [
       "<Figure size 432x288 with 1 Axes>"
      ]
     },
     "metadata": {},
     "output_type": "display_data"
    },
    {
     "name": "stdout",
     "output_type": "stream",
     "text": [
      "数字是 0\n"
     ]
    },
    {
     "data": {
      "image/png": "[encoded data removed]",
      "text/plain": [
       "<Figure size 432x288 with 1 Axes>"
      ]
     },
     "metadata": {},
     "output_type": "display_data"
    },
    {
     "name": "stdout",
     "output_type": "stream",
     "text": [
      "数字是 1\n"
     ]
    },
    {
     "data": {
      "image/png": "[encoded data removed]",
      "text/plain": [
       "<Figure size 432x288 with 1 Axes>"
      ]
     },
     "metadata": {},
     "output_type": "display_data"
    }
   ],
   "source": [
    "#离散Hopfield神经网络\n",
    "import numpy as np\n",
    "import neurolab as nl\n",
    "import matplotlib.pylab as plt\n",
    "#给定两个吸引子，15*8\n",
    "target = np.array([[\n",
    "    0,0,0,0,0,0,0,0,\n",
    "    0,0,0,1,1,0,0,0,\n",
    "    0,0,1,0,0,1,0,0,\n",
    "    0,1,0,0,0,0,1,0,\n",
    "    0,1,0,0,0,0,1,0,\n",
    "    0,1,0,0,0,0,1,0,\n",
    "    0,1,0,0,0,0,1,0,\n",
    "    0,1,0,0,0,0,1,0,\n",
    "    0,1,0,0,0,0,1,0,\n",
    "    0,1,0,0,0,0,1,0,\n",
    "    0,1,0,0,0,0,1,0,\n",
    "    0,1,0,0,0,0,1,0,\n",
    "    0,0,1,0,0,1,0,0,\n",
    "    0,0,0,1,1,0,0,0,\n",
    "    0,0,0,0,0,0,0,0,\n",
    "                    ],\n",
    "    [0,0,0,0,0,0,0,0,\n",
    "    0,0,0,0,1,0,0,0,\n",
    "    0,0,0,1,1,0,0,0,\n",
    "    0,0,0,0,1,0,0,0,\n",
    "    0,0,0,0,1,0,0,0,\n",
    "    0,0,0,0,1,0,0,0,\n",
    "    0,0,0,0,1,0,0,0,\n",
    "    0,0,0,0,1,0,0,0,\n",
    "    0,0,0,0,1,0,0,0,\n",
    "    0,0,0,0,1,0,0,0,\n",
    "    0,0,0,0,1,0,0,0,\n",
    "    0,0,0,0,1,0,0,0,\n",
    "    0,0,0,0,1,0,0,0,\n",
    "    0,0,0,0,1,0,0,0,\n",
    "    0,0,0,1,1,1,0,0,\n",
    "]])\n",
    "#画图函数\n",
    "def visualied(data,title):\n",
    "    fig,ax = plt.subplots()\n",
    "    ax.imshow(data,cmap=plt.cm.gray,interpolation='nearest')\n",
    "    ax.set_title(title)\n",
    "    plt.show()\n",
    "#显示吸引子 0 1\n",
    "for i in range(len(target)):\n",
    "    visualied(np.reshape(target[i],(15,8)),i)\n",
    "\n",
    "\n",
    "#hpnn网络的值是1 -1\n",
    "target[target == 0] = -1#把0 变成-1\n",
    "#创建一个hpnn，吸引子为target(01)\n",
    "net = nl.net.newhop(target)\n",
    "\n",
    "#定义两个数据0 1，不过这里的数据就比较混乱了\n",
    "test1 = np.array([\n",
    "    1,0,0,0,0,0,0,0,\n",
    "    0,0,0,1,1,0,0,0,\n",
    "    0,0,1,0,0,0,0,0,\n",
    "    0,1,0,0,0,0,0,0,\n",
    "    0,1,0,0,0,0,1,0,\n",
    "    0,1,0,0,1,0,1,0,\n",
    "    0,1,0,0,0,0,1,0,\n",
    "    0,0,0,0,0,0,1,0,\n",
    "    0,1,0,0,1,0,1,0,\n",
    "    0,0,0,0,0,0,1,0,\n",
    "    0,1,0,0,0,0,1,0,\n",
    "    0,1,0,0,0,0,1,0,\n",
    "    0,0,1,0,0,1,0,0,\n",
    "    0,0,0,1,0,0,0,0,\n",
    "    1,0,0,0,0,0,0,0,\n",
    "                    ])\n",
    "test2 = np.array([\n",
    "    0,0,0,0,0,0,0,0,\n",
    "    0,0,0,0,1,0,0,0,\n",
    "    0,0,0,1,1,0,0,0,\n",
    "    0,0,0,0,1,0,0,0,\n",
    "    0,1,0,0,1,0,0,0,\n",
    "    0,0,0,0,0,0,0,0,\n",
    "    1,0,0,0,1,0,0,0,\n",
    "    0,0,0,0,1,0,0,0,\n",
    "    0,0,0,0,1,0,0,0,\n",
    "    0,0,0,0,0,0,0,0,\n",
    "    0,1,0,0,1,0,0,0,\n",
    "    0,0,0,0,1,0,0,0,\n",
    "    0,0,0,0,1,0,0,0,\n",
    "    0,0,0,0,1,0,0,0,\n",
    "    0,0,0,1,1,1,0,0,\n",
    "])\n",
    "\n",
    "#先看一下测试数据的图案\n",
    "test1[test1 == 0] = -1\n",
    "test2[test2 == 0] = -1\n",
    "visualied(np.reshape(test1,(15,8)),'test1')\n",
    "visualied(np.reshape(test2,(15,8)),'test2')\n",
    "\n",
    "#开始训练联想\n",
    "out1 = net.sim([test1])\n",
    "#判断测试数据的数字\n",
    "for i in range(len(target)):\n",
    "    if(out1 == target[i]).all():\n",
    "        print('数字是',i)\n",
    "visualied(np.reshape(out1,(15,8)),'output1')\n",
    "out2 = net.sim([test2])\n",
    "#判断测试数据的数字\n",
    "for i in range(len(target)):\n",
    "    if(out2 == target[i]).all():\n",
    "        print('数字是',i)\n",
    "visualied(np.reshape(out2,(15,8)),'output2')"
   ]
  },
  {
   "cell_type": "code",
   "execution_count": null,
   "metadata": {},
   "outputs": [],
   "source": []
  },
  {
   "cell_type": "code",
   "execution_count": null,
   "metadata": {},
   "outputs": [],
   "source": []
  },
  {
   "cell_type": "code",
   "execution_count": null,
   "metadata": {},
   "outputs": [],
   "source": []
  }
 ],
 "metadata": {
  "kernelspec": {
   "display_name": "Python 3",
   "language": "python",
   "name": "python3"
  },
  "language_info": {
   "codemirror_mode": {
    "name": "ipython",
    "version": 3
   },
   "file_extension": ".py",
   "mimetype": "text/x-python",
   "name": "python",
   "nbconvert_exporter": "python",
   "pygments_lexer": "ipython3",
   "version": "3.6.6"
  }
 },
 "nbformat": 4,
 "nbformat_minor": 2
}
