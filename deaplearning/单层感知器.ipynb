{
 "cells": [
  {
   "cell_type": "code",
   "execution_count": 4,
   "metadata": {
    "scrolled": false
   },
   "outputs": [
    {
     "name": "stdout",
     "output_type": "stream",
     "text": [
      "[ 0.30727769 -0.40278115  0.68646764]\n",
      "[ 0.23394436 -0.47611449  0.6131343 ]\n",
      "1\n",
      "[1. 1. 1.]\n",
      "[ 0.16061103 -0.54944782  0.53980097]\n",
      "2\n",
      "[ 1. -1.  1.]\n",
      "[ 0.16061103 -0.32944782  0.68646764]\n",
      "3\n",
      "[1. 1. 1.]\n",
      "[ 0.08727769 -0.40278115  0.6131343 ]\n",
      "4\n",
      "[1. 1. 1.]\n",
      "[ 0.01394436 -0.47611449  0.53980097]\n",
      "5\n",
      "[ 1. -1.  1.]\n",
      "[ 0.01394436 -0.25611449  0.68646764]\n",
      "6\n",
      "[1. 1. 1.]\n",
      "[-0.05938897 -0.32944782  0.6131343 ]\n",
      "7\n",
      "[1. 1. 1.]\n",
      "[-0.13272231 -0.40278115  0.53980097]\n",
      "8\n",
      "[ 1. -1.  1.]\n",
      "[-0.13272231 -0.18278115  0.68646764]\n",
      "9\n",
      "[1. 1. 1.]\n",
      "[-0.20605564 -0.25611449  0.6131343 ]\n",
      "10\n",
      "[1. 1. 1.]\n",
      "[-0.27938897 -0.32944782  0.53980097]\n",
      "11\n",
      "[ 1.  1. -1.]\n",
      "Finished\n",
      "epoch 11\n",
      "k= 0.6103135030508713\n",
      "d= 0.5175777531431113\n"
     ]
    },
    {
     "data": {
      "image/png": "[encoded data removed]",
      "text/plain": [
       "<Figure size 432x288 with 1 Axes>"
      ]
     },
     "metadata": {},
     "output_type": "display_data"
    }
   ],
   "source": [
    "#单层感知器原理\n",
    "import numpy as np\n",
    "import matplotlib.pyplot as plt\n",
    "#输入数据\n",
    "X = np.array([[1,3,3],\n",
    "              [1,4,3],\n",
    "              [1,1,1]])\n",
    "#输出即标签\n",
    "Y = np.array([1,1,-1])\n",
    "#权值初始化[-1,1)\n",
    "W = (np.random.random(3)-0.5)*2\n",
    "print(W)\n",
    "#学习率\n",
    "lr = 0.11\n",
    "#迭代次数\n",
    "n = 0\n",
    "#神经网络的输出\n",
    "O = 0\n",
    "\n",
    "def update():\n",
    "    global X,Y,W,lr,n\n",
    "    n += 1\n",
    "    O = np.sign(np.dot(X,W.T))\n",
    "    W_C = lr*((Y - O.T).dot(X))/int(X.shape[0])#求了一个平均\n",
    "    W = W + W_C\n",
    "\n",
    "for i in range(100):\n",
    "    update()\n",
    "    print(W)\n",
    "    print(n)\n",
    "    O = np.sign(np.dot(X,W.T))\n",
    "    print(O)\n",
    "    if(O == Y.T).all():\n",
    "        print('Finished')\n",
    "        print('epoch',n)\n",
    "        break\n",
    "#正样本\n",
    "x1 = [3,4]\n",
    "y1 = [3,3]\n",
    "#负样本\n",
    "x2 = [1]\n",
    "y2 = [1]\n",
    "\n",
    "#计算分界线的斜率以及截距\n",
    "k = -W[1]/W[2]\n",
    "d = -W[0]/W[2]\n",
    "print('k=',k)\n",
    "print('d=',d)\n",
    "\n",
    "xdata = np.linspace(0,5)\n",
    "plt.figure()\n",
    "plt.plot(xdata,xdata*k+d,'r')\n",
    "plt.plot(x1,y1,'bo')\n",
    "plt.plot(x2,y2,'yo')\n",
    "plt.show()"
   ]
  },
  {
   "cell_type": "code",
   "execution_count": null,
   "metadata": {},
   "outputs": [],
   "source": []
  },
  {
   "cell_type": "code",
   "execution_count": null,
   "metadata": {},
   "outputs": [],
   "source": []
  }
 ],
 "metadata": {
  "kernelspec": {
   "display_name": "Python 3",
   "language": "python",
   "name": "python3"
  },
  "language_info": {
   "codemirror_mode": {
    "name": "ipython",
    "version": 3
   },
   "file_extension": ".py",
   "mimetype": "text/x-python",
   "name": "python",
   "nbconvert_exporter": "python",
   "pygments_lexer": "ipython3",
   "version": "3.6.5"
  }
 },
 "nbformat": 4,
 "nbformat_minor": 2
}
