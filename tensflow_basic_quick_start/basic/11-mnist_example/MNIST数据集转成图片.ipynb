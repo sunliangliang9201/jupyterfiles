{
 "cells": [
  {
   "cell_type": "code",
   "execution_count": 5,
   "metadata": {},
   "outputs": [
    {
     "name": "stdout",
     "output_type": "stream",
     "text": [
      "Extracting MNIST_data/train-images-idx3-ubyte.gz\n",
      "Extracting MNIST_data/train-labels-idx1-ubyte.gz\n",
      "Extracting MNIST_data/t10k-images-idx3-ubyte.gz\n",
      "Extracting MNIST_data/t10k-labels-idx1-ubyte.gz\n",
      "[[1.]]\n",
      "[[2.]]\n",
      "[[5.]]\n",
      "[[1.]]\n",
      "[[0.]]\n",
      "[[1.]]\n",
      "[[8.]]\n",
      "[[7.]]\n",
      "[[5.]]\n",
      "[[2.]]\n"
     ]
    },
    {
     "data": {
      "image/png": "[encoded data removed]",
      "text/plain": [
       "<Figure size 432x288 with 1 Axes>"
      ]
     },
     "metadata": {},
     "output_type": "display_data"
    }
   ],
   "source": [
    "import cv2\n",
    "import numpy as np\n",
    "from matplotlib import pyplot as plt\n",
    "from tensorflow.examples.tutorials.mnist import input_data\n",
    "convert = [[0],[1],[2],[3],[4],[5],[6],[7],[8],[9]] # 标签编码还原矩阵\n",
    "\n",
    "mnist = input_data.read_data_sets('MNIST_data', one_hot=True)\n",
    "for i in range(10):\n",
    "    batch_xs, batch_ys = mnist.train.next_batch(1) #从训练集中取1条数据\n",
    "    img = np.reshape(batch_xs, [28,28])\n",
    "    if i == 0:\n",
    "        img2 = img.copy()\n",
    "    else:\n",
    "        img2 = np.column_stack([img2,img])\n",
    "    print(np.dot(batch_ys, convert))\n",
    "img2 = cv2.cvtColor(img2, cv2.COLOR_GRAY2BGR)\n",
    "plt.imshow(img2)\n",
    "plt.show()\n",
    "    \n",
    "\n"
   ]
  }
 ],
 "metadata": {
  "kernelspec": {
   "display_name": "Python 3",
   "language": "python",
   "name": "python3"
  },
  "language_info": {
   "codemirror_mode": {
    "name": "ipython",
    "version": 3
   },
   "file_extension": ".py",
   "mimetype": "text/x-python",
   "name": "python",
   "nbconvert_exporter": "python",
   "pygments_lexer": "ipython3",
   "version": "3.6.0"
  }
 },
 "nbformat": 4,
 "nbformat_minor": 2
}
