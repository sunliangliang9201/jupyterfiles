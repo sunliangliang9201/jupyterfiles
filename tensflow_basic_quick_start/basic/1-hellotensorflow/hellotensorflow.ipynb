{
 "cells": [
  {
   "cell_type": "code",
   "execution_count": 6,
   "metadata": {},
   "outputs": [
    {
     "name": "stdout",
     "output_type": "stream",
     "text": [
      "Hello TensorFlow\n"
     ]
    }
   ],
   "source": [
    "import tensorflow as tf\n",
    "#构建模型\n",
    "hello = tf.constant(\"Hello TensorFlow\") # 定义一个常量\n",
    "#定义一个session\n",
    "sess = tf.Session()\n",
    "#运行模型\n",
    "print(sess.run(hello).decode(\"UTF-8\"))"
   ]
  }
 ],
 "metadata": {
  "kernelspec": {
   "display_name": "Python 3",
   "language": "python",
   "name": "python3"
  },
  "language_info": {
   "codemirror_mode": {
    "name": "ipython",
    "version": 3
   },
   "file_extension": ".py",
   "mimetype": "text/x-python",
   "name": "python",
   "nbconvert_exporter": "python",
   "pygments_lexer": "ipython3",
   "version": "3.6.4"
  }
 },
 "nbformat": 4,
 "nbformat_minor": 2
}
