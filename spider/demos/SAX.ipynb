{
 "cells": [
  {
   "cell_type": "code",
   "execution_count": 2,
   "metadata": {},
   "outputs": [
    {
     "name": "stdout",
     "output_type": "stream",
     "text": [
      "element: bookstore, attrs: {}\n",
      "element: book, attrs: {}\n",
      "element: title, attrs: {'lang': 'eng'}\n",
      "title`s text is Harry Potter\n",
      "end element: title\n",
      "element: price, attrs: {}\n",
      "price`s text is 29.99\n",
      "end element: price\n",
      "end element: book\n",
      "element: book, attrs: {}\n",
      "element: title, attrs: {'lang': 'chn'}\n",
      "title`s text is Learning XML\n",
      "end element: title\n",
      "element: price, attrs: {}\n",
      "price`s text is 39.95\n",
      "end element: price\n",
      "end element: book\n",
      "end element: bookstore\n"
     ]
    }
   ],
   "source": [
    "from xml.parsers.expat import ParserCreate\n",
    "class DefaultSaxHandler:\n",
    "    def start_element(self, name, attrs):\n",
    "        self.name = name\n",
    "        print('element: %s, attrs: %s' % (name, str(attrs)))\n",
    "    def end_element(self, name):\n",
    "        print('end element: %s' % name)\n",
    "    def char_data(self, text):\n",
    "        if text.strip():\n",
    "            print('%s`s text is %s' % (self.name, text))\n",
    "handler = DefaultSaxHandler()\n",
    "parser = ParserCreate()\n",
    "parser.StartElementHandler = handler.start_element\n",
    "parser.EndElementHandler = handler.end_element\n",
    "parser.CharacterDataHandler = handler.char_data\n",
    "with open('book.xml', 'r') as f:\n",
    "    parser.Parse(f.read())"
   ]
  }
 ],
 "metadata": {
  "kernelspec": {
   "display_name": "Python 3",
   "language": "python",
   "name": "python3"
  },
  "language_info": {
   "codemirror_mode": {
    "name": "ipython",
    "version": 3
   },
   "file_extension": ".py",
   "mimetype": "text/x-python",
   "name": "python",
   "nbconvert_exporter": "python",
   "pygments_lexer": "ipython3",
   "version": "3.6.6"
  }
 },
 "nbformat": 4,
 "nbformat_minor": 2
}
