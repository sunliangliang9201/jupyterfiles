{
 "cells": [
  {
   "cell_type": "code",
   "execution_count": 2,
   "metadata": {},
   "outputs": [],
   "source": [
    "import requests\n",
    "from lxml import etree"
   ]
  },
  {
   "cell_type": "code",
   "execution_count": null,
   "metadata": {},
   "outputs": [],
   "source": [
    "session = requests.Session()\n",
    "for id in range(0, 251, 25):\n",
    "    url = 'https://movie.douban.com/top250/?start=' + str(id)\n",
    "    res = session.get(url)\n",
    "    res.encoding = 'utf-8'\n",
    "    root = etree.HTML(res.content)\n",
    "    items = root.xpath('//ol/li/div[@class=\"item\"]')\n",
    "    #print(len(items))\n",
    "    for i in items:\n",
    "        title = i.xpath('./div[@class=\"info\"]//a/span[@class=\"title\"]')\n",
    "        print(title)"
   ]
  }
 ],
 "metadata": {
  "kernelspec": {
   "display_name": "Python 3",
   "language": "python",
   "name": "python3"
  },
  "language_info": {
   "codemirror_mode": {
    "name": "ipython",
    "version": 3
   },
   "file_extension": ".py",
   "mimetype": "text/x-python",
   "name": "python",
   "nbconvert_exporter": "python",
   "pygments_lexer": "ipython3",
   "version": "3.6.6"
  }
 },
 "nbformat": 4,
 "nbformat_minor": 2
}
