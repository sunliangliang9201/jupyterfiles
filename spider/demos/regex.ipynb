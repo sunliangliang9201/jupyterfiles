{
 "cells": [
  {
   "cell_type": "code",
   "execution_count": 10,
   "metadata": {},
   "outputs": [
    {
     "name": "stdout",
     "output_type": "stream",
     "text": [
      "010-2345987\n"
     ]
    }
   ],
   "source": [
    "import re\n",
    "mr = re.match(r'\\d{3}-\\d{3,8}','010-2345987')\n",
    "print(mr.group())"
   ]
  },
  {
   "cell_type": "code",
   "execution_count": 17,
   "metadata": {},
   "outputs": [
    {
     "name": "stdout",
     "output_type": "stream",
     "text": [
      "('010', '2345987')\n",
      "010-2345987\n",
      "010\n",
      "2345987\n"
     ]
    }
   ],
   "source": [
    "m = re.match(r'(\\d{3})-(\\d{3,8})','010-2345987')\n",
    "print(m.groups())\n",
    "print(m.group(0))\n",
    "print(m.group(1))\n",
    "print(m.group(2))"
   ]
  },
  {
   "cell_type": "code",
   "execution_count": 21,
   "metadata": {},
   "outputs": [
    {
     "name": "stdout",
     "output_type": "stream",
     "text": [
      "20:15:45\n",
      "('20', '15', '45')\n"
     ]
    }
   ],
   "source": [
    "t = '20:15:45'\n",
    "res = re.match(r'^(0[0-9]|1[0-9]|2[0-3]|[0-9])\\:([0-5][0-9])\\:([0-5][0-9])$',t)\n",
    "print(res.string)\n",
    "print(res.groups())"
   ]
  },
  {
   "cell_type": "code",
   "execution_count": 22,
   "metadata": {},
   "outputs": [
    {
     "name": "stdout",
     "output_type": "stream",
     "text": [
      "['one', 'two', 'three', '']\n"
     ]
    }
   ],
   "source": [
    "p = re.compile(r'\\d+')\n",
    "print(p.split('one1two22three333'))"
   ]
  }
 ],
 "metadata": {
  "kernelspec": {
   "display_name": "Python 3",
   "language": "python",
   "name": "python3"
  },
  "language_info": {
   "codemirror_mode": {
    "name": "ipython",
    "version": 3
   },
   "file_extension": ".py",
   "mimetype": "text/x-python",
   "name": "python",
   "nbconvert_exporter": "python",
   "pygments_lexer": "ipython3",
   "version": "3.6.6"
  }
 },
 "nbformat": 4,
 "nbformat_minor": 2
}
