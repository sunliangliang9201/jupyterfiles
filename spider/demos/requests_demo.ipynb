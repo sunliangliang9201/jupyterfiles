{
 "cells": [
  {
   "cell_type": "code",
   "execution_count": 32,
   "metadata": {},
   "outputs": [
    {
     "name": "stdout",
     "output_type": "stream",
     "text": [
      "200\n",
      "ISO-8859-1\n",
      "http://www.baidu.com/?a=1&b=2\n",
      "{\"message\":\"Hello there, wayfaring stranger. If you’re reading this then you probably didn’t see our blog post a couple of years back announcing that this API would go away: http://git.io/17AROg Fear not, you should be able to get what you need from the shiny new Events API instead.\",\"documentation_url\":\"https://developer.github.com/v3/activity/events/#list-public-events\"}\n",
      "<class 'str'>\n",
      "{\n",
      "  \"args\": {}, \n",
      "  \"data\": \"\", \n",
      "  \"files\": {}, \n",
      "  \"form\": {\n",
      "    \"password\": \"pass\", \n",
      "    \"username\": \"user\"\n",
      "  }, \n",
      "  \"headers\": {\n",
      "    \"Accept\": \"*/*\", \n",
      "    \"Accept-Encoding\": \"gzip, deflate\", \n",
      "    \"Connection\": \"close\", \n",
      "    \"Content-Length\": \"27\", \n",
      "    \"Content-Type\": \"application/x-www-form-urlencoded\", \n",
      "    \"Host\": \"httpbin.org\", \n",
      "    \"User-Agent\": \"python-requests/2.19.1\"\n",
      "  }, \n",
      "  \"json\": null, \n",
      "  \"origin\": \"223.72.80.191\", \n",
      "  \"url\": \"http://httpbin.org/post\"\n",
      "}\n",
      "\n",
      "{\n",
      "  \"args\": {}, \n",
      "  \"data\": \"{\\\"username\\\": \\\"user\\\", \\\"password\\\": \\\"pass\\\"}\", \n",
      "  \"files\": {}, \n",
      "  \"form\": {}, \n",
      "  \"headers\": {\n",
      "    \"Accept\": \"*/*\", \n",
      "    \"Accept-Encoding\": \"gzip, deflate\", \n",
      "    \"Connection\": \"close\", \n",
      "    \"Content-Length\": \"40\", \n",
      "    \"Host\": \"httpbin.org\", \n",
      "    \"User-Agent\": \"python-requests/2.19.1\"\n",
      "  }, \n",
      "  \"json\": {\n",
      "    \"password\": \"pass\", \n",
      "    \"username\": \"user\"\n",
      "  }, \n",
      "  \"origin\": \"223.72.80.191\", \n",
      "  \"url\": \"http://httpbin.org/post\"\n",
      "}\n",
      "\n"
     ]
    }
   ],
   "source": [
    "import requests\n",
    "url = 'http://www.baidu.com'\n",
    "res = requests.get(url)\n",
    "# print(res.content)\n",
    "# print(res.text)\n",
    "print(res.status_code)\n",
    "print(res.encoding)\n",
    "#print(dir(requests))\n",
    "#传递参数\n",
    "params = {'a': 1, 'b': 2}\n",
    "res = requests.get('http://www.baidu.com',params= params)\n",
    "print(res.url)\n",
    "#二进制数据比如图片\n",
    "from PIL import Image\n",
    "from io import BytesIO\n",
    "res = requests.get('https://timgsa.baidu.com/timg?image&quality=80&size=b9999_10000&sec=1536160844&di=0a4a93c45fda96b76bb34060c216a2b6&imgtype=jpg&er=1&src=http%3A%2F%2Fimg.zcool.cn%2Fcommunity%2F0117e2571b8b246ac72538120dd8a4.jpg%401280w_1l_2o_100sh.jpg')\n",
    "image = Image.open(BytesIO(res.content))\n",
    "#image.save('tupian.jpg')\n",
    "#json处理\n",
    "res = requests.get('https://github.com/timeline.json')\n",
    "print(res.text)\n",
    "print(type(res.text))\n",
    "#原始数据处理\n",
    "#res = requests.get('https://timgsa.baidu.com/timg?image&quality=80&size=b9999_10000&sec=1535566129635&di=fa6450c437a3e3ad319e56553f661c48&imgtype=0&src=http%3A%2F%2Fimg07.tooopen.com%2Fimages%2F20170316%2Ftooopen_sy_201956178977.jpg')\n",
    "res = requests.get('https://timgsa.baidu.com/timg?image&quality=80&size=b9999_10000&sec=1536160844&di=0a4a93c45fda96b76bb34060c216a2b6&imgtype=jpg&er=1&src=http%3A%2F%2Fimg.zcool.cn%2Fcommunity%2F0117e2571b8b246ac72538120dd8a4.jpg%401280w_1l_2o_100sh.jpg', stream = True)\n",
    "with open('tupian.jpg', 'wb+') as f:\n",
    "    for chunk in res.iter_content(1024):\n",
    "        f.write(chunk)\n",
    "        \n",
    "#提交表单\n",
    "form = {'username':'user', 'password':'pass'}\n",
    "r = requests.post('http://httpbin.org/post', data = form)\n",
    "print(r.text)\n",
    "import json\n",
    "r = requests.post('http://httpbin.org/post', data = json.dumps(form))\n",
    "print(r.text)"
   ]
  },
  {
   "cell_type": "code",
   "execution_count": 41,
   "metadata": {},
   "outputs": [
    {
     "name": "stdout",
     "output_type": "stream",
     "text": [
      "BDORZ 27315\n",
      "{\n",
      "  \"cookies\": {\n",
      "    \"c1\": \"v1\", \n",
      "    \"c2\": \"v2\"\n",
      "  }\n",
      "}\n",
      "\n"
     ]
    }
   ],
   "source": [
    "#cookie\n",
    "url = 'http://www.baidu.com'\n",
    "res = requests.get(url)\n",
    "cookies = res.cookies\n",
    "for k, v in cookies.get_dict().items():\n",
    "    print(k, v)\n",
    "cookies = {'c1': 'v1', 'c2': 'v2'}\n",
    "res = requests.get('http://httpbin.org/cookies', cookies = cookies)\n",
    "print(res.text)"
   ]
  },
  {
   "cell_type": "code",
   "execution_count": 53,
   "metadata": {},
   "outputs": [
    {
     "name": "stdout",
     "output_type": "stream",
     "text": [
      "https://github.com/\n",
      "200\n",
      "[<Response [301]>]\n"
     ]
    }
   ],
   "source": [
    "#重定向和重定向历史\n",
    "res = requests.head('http://github.com', allow_redirects = True)#有些http站点会重定向到https站点\n",
    "print(res.url)\n",
    "print(res.status_code)\n",
    "print(res.history)"
   ]
  },
  {
   "cell_type": "code",
   "execution_count": 65,
   "metadata": {},
   "outputs": [
    {
     "name": "stdout",
     "output_type": "stream",
     "text": [
      "hello\n",
      "\n"
     ]
    }
   ],
   "source": [
    "#代理\n",
    "proxies = {'http': 'http://103.15.200.12:80', 'https': 'http://103.15.200.12:80'}\n",
    "res = requests.get('http://www.baidu.com', proxies = proxies)\n",
    "print(res.text)"
   ]
  }
 ],
 "metadata": {
  "kernelspec": {
   "display_name": "Python 3",
   "language": "python",
   "name": "python3"
  },
  "language_info": {
   "codemirror_mode": {
    "name": "ipython",
    "version": 3
   },
   "file_extension": ".py",
   "mimetype": "text/x-python",
   "name": "python",
   "nbconvert_exporter": "python",
   "pygments_lexer": "ipython3",
   "version": "3.6.6"
  }
 },
 "nbformat": 4,
 "nbformat_minor": 2
}
