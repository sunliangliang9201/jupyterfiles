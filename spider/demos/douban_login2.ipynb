{
 "cells": [
  {
   "cell_type": "code",
   "execution_count": 1,
   "metadata": {},
   "outputs": [],
   "source": [
    "import requests\n",
    "import html5lib#指定一个包来作为beautifulsoup的处理器\n",
    "import re\n",
    "from bs4 import BeautifulSoup"
   ]
  },
  {
   "cell_type": "code",
   "execution_count": 15,
   "metadata": {},
   "outputs": [
    {
     "name": "stdout",
     "output_type": "stream",
     "text": [
      "Please try later.\n"
     ]
    }
   ],
   "source": [
    "sess = requests.Session()\n",
    "url_login = 'http://accounts.douban.com/login'\n",
    "formdata = {\n",
    "    'redir':'https://www.douban.com',\n",
    "    'form_mail':'sllshiyou@126.com',\n",
    "    'form_password':'sll397585361',\n",
    "    'login':u'登陆'\n",
    "}\n",
    "headers = {'user-agent':'Mozilla/5.0 (Windows NT 10.0; WOW64) AppleWebKit/537.36 (KHTML, like Gecko) Chrome/68.0.3440.106 Safari/537.36'}\n",
    "res = sess.post(url_login, data=formdata, headers = headers)\n",
    "content = res.text\n",
    "soup = BeautifulSoup(content, 'html5lib')\n",
    "captcha = soup.find('img', id = 'captcha_image')\n",
    "if captcha:\n",
    "    captcha_url = captcha['src']\n",
    "    re_capcha_id = r'<input type=\"hidden\" name=\"captcha-id\" value=\"(.*?)\"/>'\n",
    "    captcha_id = re.findall(re_capcha_id, content)\n",
    "    print(captcha_id)\n",
    "    print(captcha_url)\n",
    "    captcha_text = input('please input the captcha:')\n",
    "    formdata['captcha-solution'] = captcha_text\n",
    "    formdata['captcha-id'] = captcha_id\n",
    "    res = sess.post(url_login, data=formdata, headers = headers)\n",
    "print(res.text)\n",
    "with open('contacts.txt', 'w+', encoding= 'utf-8') as f:\n",
    "    f.write(res.text)"
   ]
  }
 ],
 "metadata": {
  "kernelspec": {
   "display_name": "Python 3",
   "language": "python",
   "name": "python3"
  },
  "language_info": {
   "codemirror_mode": {
    "name": "ipython",
    "version": 3
   },
   "file_extension": ".py",
   "mimetype": "text/x-python",
   "name": "python",
   "nbconvert_exporter": "python",
   "pygments_lexer": "ipython3",
   "version": "3.6.6"
  }
 },
 "nbformat": 4,
 "nbformat_minor": 2
}
