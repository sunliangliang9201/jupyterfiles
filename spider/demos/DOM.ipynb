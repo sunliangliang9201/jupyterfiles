{
 "cells": [
  {
   "cell_type": "code",
   "execution_count": 22,
   "metadata": {},
   "outputs": [],
   "source": []
  },
  {
   "cell_type": "code",
   "execution_count": 45,
   "metadata": {},
   "outputs": [
    {
     "name": "stdout",
     "output_type": "stream",
     "text": [
      "<class 'xml.dom.minidom.Element'>\n",
      "bookstore\n",
      "Harry Potter 29.99\n",
      "Harry Potter 29.99\n"
     ]
    }
   ],
   "source": [
    "from xml.dom import minidom\n",
    "doc = minidom.parse('book.xml')\n",
    "root = doc.documentElement\n",
    "print(type(root))\n",
    "#print(dir(root))\n",
    "print(root.nodeName)\n",
    "books = root.getElementsByTagName('book')\n",
    "for book in books:\n",
    "    titles = book.getElementsByTagName('title')\n",
    "    prices = book.getElementsByTagName('price')\n",
    "    title = titles[0].childNodes[0].nodeValue\n",
    "    price = prices[0].childNodes[0].nodeValue\n",
    "    print(title,price)"
   ]
  }
 ],
 "metadata": {
  "kernelspec": {
   "display_name": "Python 3",
   "language": "python",
   "name": "python3"
  },
  "language_info": {
   "codemirror_mode": {
    "name": "ipython",
    "version": 3
   },
   "file_extension": ".py",
   "mimetype": "text/x-python",
   "name": "python",
   "nbconvert_exporter": "python",
   "pygments_lexer": "ipython3",
   "version": "3.6.6"
  }
 },
 "nbformat": 4,
 "nbformat_minor": 2
}
