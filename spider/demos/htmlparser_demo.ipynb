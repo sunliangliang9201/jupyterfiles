{
 "cells": [
  {
   "cell_type": "code",
   "execution_count": 11,
   "metadata": {},
   "outputs": [
    {
     "name": "stdout",
     "output_type": "stream",
     "text": [
      "<html>\n",
      "<head>\n",
      "<title>\n",
      "data The Dormouse's story\n",
      "</title>\n",
      "</head>\n",
      "data \n",
      "\n",
      "<body>\n",
      "data \n",
      "\n",
      "<p>\n",
      "<b>\n",
      "data The Dormouse's story\n",
      "</b>\n",
      "</p>\n",
      "data \n",
      "\n",
      "<p>\n",
      "data Once upon a time there were three little sisters; and their names were\n",
      "\n",
      "<a>\n",
      "data  Elsie \n",
      "</a>\n",
      "data ,\n",
      "\n",
      "<a>\n",
      "data Lacie\n",
      "</a>\n",
      "data  and\n",
      "\n",
      "<a>\n",
      "data Tillie\n",
      "</a>\n",
      "data ;\n",
      "and they lived at the bottom of a well.\n",
      "</p>\n",
      "data \n",
      "\n",
      "<p>\n",
      "data ...\n",
      "</p>\n",
      "Close\n"
     ]
    }
   ],
   "source": [
    "from HTMLParser import HTMLParser\n",
    "class MyParser(HTMLParser):\n",
    "    def handle_decl(self, decl):\n",
    "        HTMLParser.handle_decl(self, decl)\n",
    "        print('decl %s' % decl)\n",
    "    \n",
    "    def handle_starttag(self, tag, attrs):\n",
    "        HTMLParser.handle_starttag(self, tag, attrs)\n",
    "        print('<' + tag + '>')\n",
    "        \n",
    "    def handle_endtag(self, tag):\n",
    "        HTMLParser.handle_endtag(self, tag)\n",
    "        print('</' + tag + '>')\n",
    "        \n",
    "    def handle_data(self, data):\n",
    "        HTMLParser.handle_data(self, data)\n",
    "        print('data %s' % data)\n",
    "        \n",
    "    def handle_startendtag(self, tag, attrs):\n",
    "        HTMLParser.handle_startendtag(self, tag, attrs)\n",
    "    def handle_comment(self, data):\n",
    "        HTMLParser.handle_comment(self, data)\n",
    "        print('data %s' % data)\n",
    "    def close(self):\n",
    "        HTMLParser.close(self)\n",
    "        print('Close')\n",
    "demo = MyParser()\n",
    "demo.feed(open('test.html').read())\n",
    "demo.close()"
   ]
  }
 ],
 "metadata": {
  "kernelspec": {
   "display_name": "Python 3",
   "language": "python",
   "name": "python3"
  },
  "language_info": {
   "codemirror_mode": {
    "name": "ipython",
    "version": 3
   },
   "file_extension": ".py",
   "mimetype": "text/x-python",
   "name": "python",
   "nbconvert_exporter": "python",
   "pygments_lexer": "ipython3",
   "version": "3.6.6"
  }
 },
 "nbformat": 4,
 "nbformat_minor": 2
}
